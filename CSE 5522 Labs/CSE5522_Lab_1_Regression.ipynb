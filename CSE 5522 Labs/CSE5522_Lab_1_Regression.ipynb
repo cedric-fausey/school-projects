{
  "nbformat": 4,
  "nbformat_minor": 0,
  "metadata": {
    "colab": {
      "name": "CSE5522 Lab #1: Regression.ipynb",
      "provenance": [],
      "collapsed_sections": []
    },
    "kernelspec": {
      "name": "python3",
      "display_name": "Python 3"
    }
  },
  "cells": [
    {
      "cell_type": "markdown",
      "metadata": {
        "id": "ZylXfoHRAmUz"
      },
      "source": [
        "**CSE 5522 Lab 1: Submission by Cedric Fausey**"
      ]
    },
    {
      "cell_type": "markdown",
      "metadata": {
        "id": "dTPwb8ny-hOU"
      },
      "source": [
        "**CSE 5522 Lab #1: Regression**\n",
        "\n",
        "The goals of this lab are to familarize you with:\n",
        "\n",
        "*   Gradient descent\n",
        "*   Multivariate regression\n",
        "*   Logistic regression\n",
        "*   Data exploration\n",
        "\n",
        "**Initial notes**\n",
        "\n",
        "* (If you are using Google Colab) Make a copy of this page in your google drive so that you can edit it.\n",
        "\n",
        "* While not completely necessary for this assignment, you may want to familiarize yourself with the following packages: [numpy](https://numpy.org), [scikit-learn](https://scikit-learn.org), [pandas](https://pandas.pydata.org), [matplotlib](https://matplotlib.org).\n",
        " * Especially numpy, many of the calculations in this lab (and later) can be done in one line using numpy. Whereas raw python may require 5-10x that.\n",
        "\n",
        "* Feel free to (please do!) change the structure of the document below. Especially, add code sections to break your code into logical pieces and add text sections to explain your code or results\n",
        "\n",
        "---\n",
        "---\n"
      ]
    },
    {
      "cell_type": "markdown",
      "metadata": {
        "id": "EYMPnwak4xhX"
      },
      "source": [
        "\n",
        "**Part 1: Multivariate regression (20 pts)**\n",
        "\n",
        "In this part of the lab, you'll explore multivariate regression.  We'll use the *scikit-learn* linear regression tool (although you're welcome to extend your code from the hands-on).  The primary reason for this is that the sklearn routines will handle some of the normalization issues for you.\n",
        "\n",
        "Note: Some parts of this tutorial were based on [Argawal, Linear Regression on Boston Housing Dataset](https://towardsdatascience.com/linear-regression-on-boston-housing-dataset-f409b7e4a155).\n",
        "\n",
        "**1.0:** We'll be looking at the Boston Housing dataset which is built in to sklearn, but has more variables. Load the dataset in:"
      ]
    },
    {
      "cell_type": "code",
      "metadata": {
        "id": "fTzAMOTl4v_f"
      },
      "source": [
        "import matplotlib.pyplot as plt\n",
        "import pandas as pd\n",
        "import numpy as np\n",
        "from sklearn.datasets import load_boston\n",
        "boston_dataset=load_boston()"
      ],
      "execution_count": 2,
      "outputs": []
    },
    {
      "cell_type": "markdown",
      "metadata": {
        "id": "csgSBR5w6FKq"
      },
      "source": [
        "**1.1** You can see a description of the dataset by printing the dataset's DESCR attribute (set by the sklearn.dataset package)."
      ]
    },
    {
      "cell_type": "code",
      "metadata": {
        "id": "Ez-qWyVI6CAL",
        "colab": {
          "base_uri": "https://localhost:8080/"
        },
        "outputId": "22369ef2-d76f-4f14-adad-79048ab97472"
      },
      "source": [
        "print(boston_dataset.DESCR)"
      ],
      "execution_count": null,
      "outputs": [
        {
          "output_type": "stream",
          "text": [
            ".. _boston_dataset:\n",
            "\n",
            "Boston house prices dataset\n",
            "---------------------------\n",
            "\n",
            "**Data Set Characteristics:**  \n",
            "\n",
            "    :Number of Instances: 506 \n",
            "\n",
            "    :Number of Attributes: 13 numeric/categorical predictive. Median Value (attribute 14) is usually the target.\n",
            "\n",
            "    :Attribute Information (in order):\n",
            "        - CRIM     per capita crime rate by town\n",
            "        - ZN       proportion of residential land zoned for lots over 25,000 sq.ft.\n",
            "        - INDUS    proportion of non-retail business acres per town\n",
            "        - CHAS     Charles River dummy variable (= 1 if tract bounds river; 0 otherwise)\n",
            "        - NOX      nitric oxides concentration (parts per 10 million)\n",
            "        - RM       average number of rooms per dwelling\n",
            "        - AGE      proportion of owner-occupied units built prior to 1940\n",
            "        - DIS      weighted distances to five Boston employment centres\n",
            "        - RAD      index of accessibility to radial highways\n",
            "        - TAX      full-value property-tax rate per $10,000\n",
            "        - PTRATIO  pupil-teacher ratio by town\n",
            "        - B        1000(Bk - 0.63)^2 where Bk is the proportion of blacks by town\n",
            "        - LSTAT    % lower status of the population\n",
            "        - MEDV     Median value of owner-occupied homes in $1000's\n",
            "\n",
            "    :Missing Attribute Values: None\n",
            "\n",
            "    :Creator: Harrison, D. and Rubinfeld, D.L.\n",
            "\n",
            "This is a copy of UCI ML housing dataset.\n",
            "https://archive.ics.uci.edu/ml/machine-learning-databases/housing/\n",
            "\n",
            "\n",
            "This dataset was taken from the StatLib library which is maintained at Carnegie Mellon University.\n",
            "\n",
            "The Boston house-price data of Harrison, D. and Rubinfeld, D.L. 'Hedonic\n",
            "prices and the demand for clean air', J. Environ. Economics & Management,\n",
            "vol.5, 81-102, 1978.   Used in Belsley, Kuh & Welsch, 'Regression diagnostics\n",
            "...', Wiley, 1980.   N.B. Various transformations are used in the table on\n",
            "pages 244-261 of the latter.\n",
            "\n",
            "The Boston house-price data has been used in many machine learning papers that address regression\n",
            "problems.   \n",
            "     \n",
            ".. topic:: References\n",
            "\n",
            "   - Belsley, Kuh & Welsch, 'Regression diagnostics: Identifying Influential Data and Sources of Collinearity', Wiley, 1980. 244-261.\n",
            "   - Quinlan,R. (1993). Combining Instance-Based and Model-Based Learning. In Proceedings on the Tenth International Conference of Machine Learning, 236-243, University of Massachusetts, Amherst. Morgan Kaufmann.\n",
            "\n"
          ],
          "name": "stdout"
        }
      ]
    },
    {
      "cell_type": "markdown",
      "metadata": {
        "id": "w1czgqWq7N5d"
      },
      "source": [
        "**1.2:** We can convert this data into a pandas dataframe and then look at the first few rows in tabular form."
      ]
    },
    {
      "cell_type": "code",
      "metadata": {
        "id": "phA72blh6d_N",
        "colab": {
          "base_uri": "https://localhost:8080/",
          "height": 206
        },
        "outputId": "9a494946-b0a3-46be-ab85-b4b241e4b139"
      },
      "source": [
        "boston = pd.DataFrame(boston_dataset.data, columns=boston_dataset.feature_names)\n",
        "boston['MEDV']=boston_dataset.target\n",
        "boston.head()"
      ],
      "execution_count": null,
      "outputs": [
        {
          "output_type": "execute_result",
          "data": {
            "text/html": [
              "<div>\n",
              "<style scoped>\n",
              "    .dataframe tbody tr th:only-of-type {\n",
              "        vertical-align: middle;\n",
              "    }\n",
              "\n",
              "    .dataframe tbody tr th {\n",
              "        vertical-align: top;\n",
              "    }\n",
              "\n",
              "    .dataframe thead th {\n",
              "        text-align: right;\n",
              "    }\n",
              "</style>\n",
              "<table border=\"1\" class=\"dataframe\">\n",
              "  <thead>\n",
              "    <tr style=\"text-align: right;\">\n",
              "      <th></th>\n",
              "      <th>CRIM</th>\n",
              "      <th>ZN</th>\n",
              "      <th>INDUS</th>\n",
              "      <th>CHAS</th>\n",
              "      <th>NOX</th>\n",
              "      <th>RM</th>\n",
              "      <th>AGE</th>\n",
              "      <th>DIS</th>\n",
              "      <th>RAD</th>\n",
              "      <th>TAX</th>\n",
              "      <th>PTRATIO</th>\n",
              "      <th>B</th>\n",
              "      <th>LSTAT</th>\n",
              "      <th>MEDV</th>\n",
              "    </tr>\n",
              "  </thead>\n",
              "  <tbody>\n",
              "    <tr>\n",
              "      <th>0</th>\n",
              "      <td>0.00632</td>\n",
              "      <td>18.0</td>\n",
              "      <td>2.31</td>\n",
              "      <td>0.0</td>\n",
              "      <td>0.538</td>\n",
              "      <td>6.575</td>\n",
              "      <td>65.2</td>\n",
              "      <td>4.0900</td>\n",
              "      <td>1.0</td>\n",
              "      <td>296.0</td>\n",
              "      <td>15.3</td>\n",
              "      <td>396.90</td>\n",
              "      <td>4.98</td>\n",
              "      <td>24.0</td>\n",
              "    </tr>\n",
              "    <tr>\n",
              "      <th>1</th>\n",
              "      <td>0.02731</td>\n",
              "      <td>0.0</td>\n",
              "      <td>7.07</td>\n",
              "      <td>0.0</td>\n",
              "      <td>0.469</td>\n",
              "      <td>6.421</td>\n",
              "      <td>78.9</td>\n",
              "      <td>4.9671</td>\n",
              "      <td>2.0</td>\n",
              "      <td>242.0</td>\n",
              "      <td>17.8</td>\n",
              "      <td>396.90</td>\n",
              "      <td>9.14</td>\n",
              "      <td>21.6</td>\n",
              "    </tr>\n",
              "    <tr>\n",
              "      <th>2</th>\n",
              "      <td>0.02729</td>\n",
              "      <td>0.0</td>\n",
              "      <td>7.07</td>\n",
              "      <td>0.0</td>\n",
              "      <td>0.469</td>\n",
              "      <td>7.185</td>\n",
              "      <td>61.1</td>\n",
              "      <td>4.9671</td>\n",
              "      <td>2.0</td>\n",
              "      <td>242.0</td>\n",
              "      <td>17.8</td>\n",
              "      <td>392.83</td>\n",
              "      <td>4.03</td>\n",
              "      <td>34.7</td>\n",
              "    </tr>\n",
              "    <tr>\n",
              "      <th>3</th>\n",
              "      <td>0.03237</td>\n",
              "      <td>0.0</td>\n",
              "      <td>2.18</td>\n",
              "      <td>0.0</td>\n",
              "      <td>0.458</td>\n",
              "      <td>6.998</td>\n",
              "      <td>45.8</td>\n",
              "      <td>6.0622</td>\n",
              "      <td>3.0</td>\n",
              "      <td>222.0</td>\n",
              "      <td>18.7</td>\n",
              "      <td>394.63</td>\n",
              "      <td>2.94</td>\n",
              "      <td>33.4</td>\n",
              "    </tr>\n",
              "    <tr>\n",
              "      <th>4</th>\n",
              "      <td>0.06905</td>\n",
              "      <td>0.0</td>\n",
              "      <td>2.18</td>\n",
              "      <td>0.0</td>\n",
              "      <td>0.458</td>\n",
              "      <td>7.147</td>\n",
              "      <td>54.2</td>\n",
              "      <td>6.0622</td>\n",
              "      <td>3.0</td>\n",
              "      <td>222.0</td>\n",
              "      <td>18.7</td>\n",
              "      <td>396.90</td>\n",
              "      <td>5.33</td>\n",
              "      <td>36.2</td>\n",
              "    </tr>\n",
              "  </tbody>\n",
              "</table>\n",
              "</div>"
            ],
            "text/plain": [
              "      CRIM    ZN  INDUS  CHAS    NOX  ...    TAX  PTRATIO       B  LSTAT  MEDV\n",
              "0  0.00632  18.0   2.31   0.0  0.538  ...  296.0     15.3  396.90   4.98  24.0\n",
              "1  0.02731   0.0   7.07   0.0  0.469  ...  242.0     17.8  396.90   9.14  21.6\n",
              "2  0.02729   0.0   7.07   0.0  0.469  ...  242.0     17.8  392.83   4.03  34.7\n",
              "3  0.03237   0.0   2.18   0.0  0.458  ...  222.0     18.7  394.63   2.94  33.4\n",
              "4  0.06905   0.0   2.18   0.0  0.458  ...  222.0     18.7  396.90   5.33  36.2\n",
              "\n",
              "[5 rows x 14 columns]"
            ]
          },
          "metadata": {
            "tags": []
          },
          "execution_count": 18
        }
      ]
    },
    {
      "cell_type": "markdown",
      "metadata": {
        "id": "kIynx6z4AA3I"
      },
      "source": [
        "**1.3:** At this point, we want to figure out what variables are good predictors of the median value of a house in Boston.  We can find the relationship between single variables by looking at the correlation between variables.  \n",
        "\n",
        "---\n",
        "\n",
        "*Side note: the correlation between two vectors of variables x and y is* \n",
        "```\n",
        "1/(n-1) sum x*y\n",
        "```\n",
        "*assuming that x and y have zero mean and a standard gaussian distribution (which you can achieve by subtracting the mean and dividing by the standard deviation).  If x and y always share the same sign, then this value will be positive; if x and y are always opposite sign then the correlation is negative.*\n",
        "\n",
        "---\n",
        "\n",
        "The sklearn.datasets class has a built in correlation function, which we can use to compute the correlation between each pair of variables.  We can also use the seaborn package to plot a nice heatmap of these variables.\n",
        "\n",
        "**What's the most correlated variable with MEDV?**\n"
      ]
    },
    {
      "cell_type": "code",
      "metadata": {
        "id": "mpPMqeZ37esY",
        "colab": {
          "base_uri": "https://localhost:8080/",
          "height": 505
        },
        "outputId": "d440cf31-9ac9-4898-dcd2-ad1e12f1b724"
      },
      "source": [
        "import seaborn as sb\n",
        "\n",
        "correlation_matrix = boston.corr().round(2)\n",
        "plt.figure(figsize=(10,8))\n",
        "sb.heatmap(data=correlation_matrix, annot=True, center=0.0, cmap='coolwarm')"
      ],
      "execution_count": null,
      "outputs": [
        {
          "output_type": "execute_result",
          "data": {
            "text/plain": [
              "<matplotlib.axes._subplots.AxesSubplot at 0x7f137f48f208>"
            ]
          },
          "metadata": {
            "tags": []
          },
          "execution_count": 19
        },
        {
          "output_type": "display_data",
          "data": {
            "image/png": "[encoded data removed]",
            "text/plain": [
              "<Figure size 720x576 with 2 Axes>"
            ]
          },
          "metadata": {
            "tags": [],
            "needs_background": "light"
          }
        }
      ]
    },
    {
      "cell_type": "markdown",
      "metadata": {
        "id": "hN-4LVKcM3Hp"
      },
      "source": [
        "Note that the most correlated variable is LSTAT (at -0.74) and not RM (0.70) - while the correlation is negative, it just means that there is an inverse relationship between LSTAT and MEDV (when LSTAT goes up, MEDV goes down), but LSTAT should be the single best predictor.\n",
        "\n",
        "**1.4:** Now, we kind of cheated there, since we figured out the correlation on the entire dataset.  A better practice is to randomly select training and test sets, fit the data on the training set, and then evaluate on the test set.  Let's see if LSTAT really is a better predictor than RM of MEDV."
      ]
    },
    {
      "cell_type": "code",
      "metadata": {
        "id": "rHsrFaJf8WvS"
      },
      "source": [
        "from sklearn.linear_model import LinearRegression\n",
        "from sklearn.model_selection import train_test_split\n",
        "from sklearn.metrics import mean_squared_error, r2_score\n",
        "\n",
        "# first, set up dataframe for all variables \n",
        "boston_totaldata = pd.DataFrame(boston_dataset.data, columns=boston_dataset.feature_names)\n",
        "boston_totaltarget = boston_dataset.target\n",
        "\n",
        "boston_traindata, boston_testdata, boston_traintarget, boston_testtarget = train_test_split(boston_totaldata,\n",
        "                                                                                           boston_totaltarget,\n",
        "                                                                                           test_size=0.2,\n",
        "                                                                                           random_state=5)\n",
        "#\"random_state\" sets the random seed used when dividing the datasets. Setting it to a fixed number like this means\n",
        "#we will get the same \"random\" split every time. If you truly want random, remove this argument"
      ],
      "execution_count": 3,
      "outputs": []
    },
    {
      "cell_type": "code",
      "metadata": {
        "id": "koimxdTnPJYr",
        "colab": {
          "base_uri": "https://localhost:8080/"
        },
        "outputId": "b2c992dd-072b-413b-c4ae-80f3a3fb83bc"
      },
      "source": [
        "boston_traindata.shape"
      ],
      "execution_count": null,
      "outputs": [
        {
          "output_type": "execute_result",
          "data": {
            "text/plain": [
              "(404, 13)"
            ]
          },
          "metadata": {
            "tags": []
          },
          "execution_count": 47
        }
      ]
    },
    {
      "cell_type": "code",
      "metadata": {
        "id": "r8roAOT6Pd0f",
        "colab": {
          "base_uri": "https://localhost:8080/"
        },
        "outputId": "cc198bd2-62ef-427f-b8ab-34c29675583c"
      },
      "source": [
        "boston_testdata.shape"
      ],
      "execution_count": null,
      "outputs": [
        {
          "output_type": "execute_result",
          "data": {
            "text/plain": [
              "(102, 13)"
            ]
          },
          "metadata": {
            "tags": []
          },
          "execution_count": 48
        }
      ]
    },
    {
      "cell_type": "code",
      "metadata": {
        "id": "IF_qw_msPkkJ",
        "colab": {
          "base_uri": "https://localhost:8080/"
        },
        "outputId": "fe171641-67ed-40f3-f6f3-d470e35b06ec"
      },
      "source": [
        "# subselect LSTAT data, train model\n",
        "#   note the double square brackets - need 2-dimensional array to come out of selection\n",
        "lstat_traindata=boston_traindata[['LSTAT']]\n",
        "lstat_testdata=boston_testdata[['LSTAT']]\n",
        "lin_model = LinearRegression()\n",
        "lin_model.fit(lstat_traindata,boston_traintarget)"
      ],
      "execution_count": null,
      "outputs": [
        {
          "output_type": "execute_result",
          "data": {
            "text/plain": [
              "LinearRegression(copy_X=True, fit_intercept=True, n_jobs=None, normalize=False)"
            ]
          },
          "metadata": {
            "tags": []
          },
          "execution_count": 22
        }
      ]
    },
    {
      "cell_type": "code",
      "metadata": {
        "id": "AWDGQYlsQpqX",
        "colab": {
          "base_uri": "https://localhost:8080/"
        },
        "outputId": "147a981a-cfeb-496c-d8e4-643bd533e40c"
      },
      "source": [
        "lstat_testpredict=lin_model.predict(lstat_testdata)\n",
        "rmse = (np.sqrt(mean_squared_error(boston_testtarget,lstat_testpredict)))\n",
        "r2 = r2_score(boston_testtarget,lstat_testpredict)\n",
        "print('Test RMSE = {}, Test R2 = {}'.format(rmse,r2))"
      ],
      "execution_count": null,
      "outputs": [
        {
          "output_type": "stream",
          "text": [
            "Test RMSE = 6.2307165730986815, Test R2 = 0.5041523728903132\n"
          ],
          "name": "stdout"
        }
      ]
    },
    {
      "cell_type": "markdown",
      "metadata": {
        "id": "4Uxds-NwjrVZ"
      },
      "source": [
        "*Note:* We do no normalizing here because sklearn will do it for us, if necessary\n",
        "\n",
        "R2 is the amount of variation explained by the model, and can range from 0 (no variance explained) to 1 (perfect explanation). \n",
        "\n",
        "*Something for you to think about:* Notice that R2 is much lower than the correlation coefficient.  Why? (There are 2 reasons.)\n",
        "\n",
        "**1.4a:** Let's do it again for RM (this time, you calculate it)."
      ]
    },
    {
      "cell_type": "code",
      "metadata": {
        "id": "8MpXx-55QsBG",
        "colab": {
          "base_uri": "https://localhost:8080/"
        },
        "outputId": "419a449a-e0ce-402f-d0c2-ec0de5e03146"
      },
      "source": [
        "# Copy and modify the example above to predict using RM (instead of LSTAT)\n",
        "# Of course, also calculate RMSE and R2 for the new prediction\n",
        "rm_traindata=boston_traindata[['RM']]\n",
        "rm_testdata=boston_testdata[['RM']]\n",
        "lin_model = LinearRegression()\n",
        "lin_model.fit(rm_traindata,boston_traintarget)\n",
        "rm_testpredict=lin_model.predict(rm_testdata)\n",
        "rmse = (np.sqrt(mean_squared_error(boston_testtarget,rm_testpredict)))\n",
        "r2 = r2_score(boston_testtarget,rm_testpredict)\n",
        "print('Test RMSE = {}, Test R2 = {}'.format(rmse,r2))"
      ],
      "execution_count": 4,
      "outputs": [
        {
          "output_type": "stream",
          "text": [
            "Test RMSE = 4.895963186952216, Test R2 = 0.6938399401553497\n"
          ],
          "name": "stdout"
        }
      ]
    },
    {
      "cell_type": "markdown",
      "metadata": {
        "id": "3pJ13awBkk3-"
      },
      "source": [
        "(Note: answers for why R2 is lower that correlation is that (a) it's roughly the square of correlation, and also (b) we calculated correlation on the entire training set; R2 was calculated on test only.)"
      ]
    },
    {
      "cell_type": "markdown",
      "metadata": {
        "id": "By0YSrH8k8CQ"
      },
      "source": [
        "**1.5:** At this point, you can start to look at how to predict from multiple variables.  What are the two best variables in predicting as measured by R2? (Try every possible variable pair.)\n",
        "\n",
        "Are the results better than predicting using all variables?"
      ]
    },
    {
      "cell_type": "markdown",
      "metadata": {
        "id": "ErlOZrmhnzMu"
      },
      "source": [
        "**Answer:** The best pair of variables is RM and TAX (average number of rooms and tax rate), with R2 equal to about 0.7499. The results here are slightly better than predicting using all variables."
      ]
    },
    {
      "cell_type": "code",
      "metadata": {
        "id": "8cHvWvcrnQ-I"
      },
      "source": [
        "# Rebuild your previous training method to do two variable/feature prediction.\n",
        "# Loop over and train models for every possible pair \n",
        "for feature1 in boston_dataset.feature_names:\n",
        "  for feature2 in boston_dataset.feature_names:\n",
        "    features_traindata = boston_traindata[[feature1, feature2]].to_numpy().reshape(-1,2)\n",
        "    features_testdata = boston_testdata[[feature1, feature2]].to_numpy().reshape(-1,2)\n",
        "    lin_model = LinearRegression()\n",
        "    lin_model.fit(features_traindata, boston_traintarget)\n",
        "    features_testpredict = lin_model.predict(features_testdata)\n",
        "    rmse = (np.sqrt(mean_squared_error(boston_testtarget,features_testpredict)))\n",
        "    r2 = r2_score(boston_testtarget,features_testpredict)\n",
        "    print('Features {} and {}, Test RMSE = {}, Test R2 = {}'.format(feature1, feature2, rmse, r2))"
      ],
      "execution_count": null,
      "outputs": []
    },
    {
      "cell_type": "markdown",
      "metadata": {
        "id": "V7FHp8Qn2zOl"
      },
      "source": [
        "---\n",
        "---\n",
        "**Part 2: Predicting Gene Expression (40 pts)**\n",
        "\n",
        "There are ~20,000 genes in the human genome. Each one of them is transcribed to mRNA and then translated to proteins which carry on various tasks inside our body. We can measure the amount of 20,000 mRNA expressed in samples collected from different organs. This collection is called _gene expression profile_.\n",
        "\n",
        "Although our genome is the same across all cell types, the gene expression profile is different because each organ needs different proteins for its survival. One of the regulatory mechanisms which controls the expression level in each cell type is microRNA (miR). MicroRNAs are small molecules which attach to mRNAs and prevent them from translation to proteins and also degrade them.\n",
        "\n",
        "So if miR A targets mRNA B when A increases B decreases. Our goal is to predict mRNA levels (gene expression profile) using 21 miR features. Note that each of the 20,000 expression levels can be a response of regression with 21 features. To simplify, we have selected a few genes to predict their expression.\n",
        "\n",
        "Your job will be to investigate how well the miR values predict the mRNA values.  \n",
        "\n",
        "You are recommended to use the sklearn.linear_model package to conduct linear regression experiments, but you may use other packages if you wish.  \n",
        "\n",
        "**Instructions:** Load the data from GitHub (example code given). \n",
        "\n",
        "**Hint:** Part 1 of this lab (Boston Housing) has examples of how to do almost everything you need for this part. Please review it carefully."
      ]
    },
    {
      "cell_type": "code",
      "metadata": {
        "id": "Hu-wHw6wFTYv"
      },
      "source": [
        "miR_URL='https://raw.githubusercontent.com/efosler/cse5522data/master/miRScore-x.csv'\n",
        "miR_df=pd.read_csv(miR_URL)\n",
        "# remove row names from the first column, rows=samples, cols=miR features\n",
        "miR = np.array(miR_df)[:,1:]\n",
        "\n",
        "mRNA_well_URL='https://raw.githubusercontent.com/efosler/cse5522data/master/mRNA-y-well-explained.csv'\n",
        "mRNA_well_df=pd.read_csv(mRNA_well_URL)\n",
        "# remove label column, transpose with rows=samples, cols=mRNA\n",
        "mRNA_well = np.transpose(np.array(mRNA_well_df)[:,1:8896])\n",
        "\n",
        "mRNA_poor_URL='https://raw.githubusercontent.com/efosler/cse5522data/master/mRNA-y-poor-explained.csv'\n",
        "mRNA_poor_df=pd.read_csv(mRNA_poor_URL)\n",
        "# remove label column, transpose with rows=samples, cols=mRNA\n",
        "mRNA_poor = np.transpose(np.array(mRNA_poor_df)[:,1:8896])"
      ],
      "execution_count": null,
      "outputs": []
    },
    {
      "cell_type": "markdown",
      "metadata": {
        "id": "4r6mQ3apXE89"
      },
      "source": [
        "You should randomly divide the samples into 80/20 training/test splits, and repeat the experiment 10 times to give mean and standard deviation of the metrics.\n",
        "\n",
        "**2.1:** Using the *miR* features, predict each of the well-expressed (*mRNA_well*) and poorly-expressed (*mRNA_poor*) genes with a linear model. This means you will be solving 55 separate linear regression problems (one each for 35 well-expressed + 20 poorly expressed).\n",
        "\n",
        "Perform 10 experiments of the above using a different training/test split each time. Report the the mean and standard deviation (over the 10 experiments) for each of the 55 mRNA targets for both the R2 and RMSE metrics.\n",
        "\n",
        "*Note:* This means in total you will be building/training 550 different models!"
      ]
    },
    {
      "cell_type": "code",
      "metadata": {
        "id": "5b55kPE57Okt",
        "colab": {
          "base_uri": "https://localhost:8080/"
        },
        "outputId": "8776248c-cd48-449e-8723-4c27b1b73d45"
      },
      "source": [
        "from statistics import mean, pstdev\r\n",
        "rmseList = {}\r\n",
        "r2List = {}\r\n",
        "\r\n",
        "def genePredict(df, feature_train, feature_test, target_train, target_test):\r\n",
        "    for j in range(len(df[\"Unnamed: 0\"])):\r\n",
        "      geneName = df[\"Unnamed: 0\"][j]\r\n",
        "      lin_model = LinearRegression()\r\n",
        "      lin_model.fit(feature_train, target_train[:, j])\r\n",
        "      miR_testpredict = lin_model.predict(feature_test)\r\n",
        "      rmse = (np.sqrt(mean_squared_error(target_test[:, j],miR_testpredict)))\r\n",
        "      r2 = r2_score(target_test[:, j],miR_testpredict)\r\n",
        "      addToList(rmseList, geneName, rmse)\r\n",
        "      addToList(r2List, geneName, r2)\r\n",
        "      # print(\"{},{},{},{}\".format(targetName, geneName, rmse, r2))\r\n",
        "      # print('{}-expressed Gene {}, Test RMSE = {}, Test R2 = {}'.format(targetName, df[\"Unnamed: 0\"][j], rmse, r2))\r\n",
        "\r\n",
        "# adds a value to a gene's list of RMSE or R2 values, used to make standard deviation and mean straightforward to calculate\r\n",
        "def addToList(list1, gene, value):\r\n",
        "  if gene not in list1:\r\n",
        "    list1[gene] = []\r\n",
        "  list1[gene].append(value)\r\n",
        "\r\n",
        "def wellOrPoor(gene):\r\n",
        "  if gene in mRNA_well_df[\"Unnamed: 0\"].values:\r\n",
        "    return \"Well\"\r\n",
        "  elif gene in mRNA_poor_df[\"Unnamed: 0\"].values:\r\n",
        "    return \"Poor\"\r\n",
        "  else:\r\n",
        "    return \"n/a\"\r\n",
        "\r\n",
        "# prints top row of the table\r\n",
        "print(\"Gene Type,Gene Name,RMSE Mean,RMSE St Dev,R2 Mean, R2 St Dev\")\r\n",
        "for i in range(10):\r\n",
        "  miR_train, miR_test, mRNA_well_train, mRNA_well_test, mRNA_poor_train, mRNA_poor_test = train_test_split(miR,\r\n",
        "                                                                                          mRNA_well, mRNA_poor,\r\n",
        "                                                                                          test_size=0.2)\r\n",
        "  genePredict(mRNA_well_df, miR_train, miR_test, mRNA_well_train, mRNA_well_test)\r\n",
        "  genePredict(mRNA_poor_df, miR_train, miR_test, mRNA_poor_train, mRNA_poor_test)\r\n",
        "\r\n",
        "for gene in rmseList:\r\n",
        "  print(\"{},{},{},{},{},{}\".format(wellOrPoor(gene), gene, mean(rmseList[gene]), pstdev(rmseList[gene]), mean(r2List[gene]), pstdev(r2List[gene])))"
      ],
      "execution_count": null,
      "outputs": [
        {
          "output_type": "stream",
          "text": [
            "Gene Type,Gene Name,RMSE Mean,RMSE St Dev,R2 Mean, R2 St Dev\n",
            "Well,SNORD88B,0.0,0.0,1.0,0.0\n",
            "Well,GRHL2,1.0387013590349465,0.02216012184266805,0.89244023957591,0.004066903937162877\n",
            "Well,C1orf172,0.7583639369029277,0.02115278940855865,0.8773211499400269,0.006428283742913001\n",
            "Well,RAB25,1.2023021332332193,0.027915489159955186,0.8751313228263295,0.005170013146236\n",
            "Well,ANKS4B,0.8306099741253457,0.028164001830966835,0.8631745939173133,0.008149328649483504\n",
            "Well,HNF4A,1.185462799790596,0.029556793861501007,0.8617878884100807,0.008075480020459243\n",
            "Well,AP1M2,1.1870059589250381,0.05078265654081353,0.8465177136439128,0.015304362579087342\n",
            "Well,PKP3,1.2684225099495836,0.021867943106062254,0.8443885641366977,0.007620597431015781\n",
            "Well,STMN4,0.7910741410353688,0.02954980899710423,0.8376510751793328,0.010654754788697499\n",
            "Well,ESRP1,1.2596892401349737,0.022549445579317092,0.8412846259014514,0.007157706635896363\n",
            "Well,CDHR5,1.300587293856839,0.03969174056535332,0.8308472229205953,0.010810050794281715\n",
            "Well,MEG3,1.0078284001052364,0.010838714371196616,0.832200778143668,0.006315048400329229\n",
            "Well,PRSS8,1.3973587366350988,0.03759328381630182,0.8230776715904132,0.009798178704300926\n",
            "Well,OVOL2,0.8586065756303618,0.010664204558461733,0.8199604685263203,0.003962480912129928\n",
            "Well,SPINT1,1.1461957409325307,0.02111022714453685,0.82126540312362,0.005596826234264069\n",
            "Well,TM4SF5,1.0103740486073371,0.025025485122738483,0.8199729751420882,0.01147321484156727\n",
            "Well,ELAVL3,0.874962955278512,0.02356983068931901,0.8209798255311735,0.01041800845844347\n",
            "Well,FAM123A,0.7147516797241055,0.027207692406111643,0.8108453013076691,0.0180713822774339\n",
            "Well,ZDHHC22,0.8408434829058249,0.02771520588026318,0.8164488803176368,0.012498866944198357\n",
            "Well,MMD2,0.6108682954700054,0.017355075615461842,0.8103023885641238,0.01086386795764019\n",
            "Well,SH2D3A,0.8788138797608384,0.01354008503016357,0.8162813501809424,0.003954682338284083\n",
            "Well,C21orf131,0.4594520755311027,0.011245968104789105,0.8139522096826038,0.011603200442290624\n",
            "Well,NCAN,1.095841637237768,0.05270175082020456,0.8097887631165696,0.016182062099722432\n",
            "Well,CRB3,0.9207138818490729,0.014218256743787643,0.8121347252136819,0.007603228852725373\n",
            "Well,CLDN4,1.4928566629031361,0.027902237494854144,0.8127022366465293,0.006089938391342885\n",
            "Well,CACNG7,0.7927203019992802,0.02680535525499216,0.8113860698359325,0.012214058902039379\n",
            "Well,C1orf210,0.9393432106918003,0.012627429655938785,0.8077254762904273,0.005445754418030723\n",
            "Well,KCNJ9,0.6156913666771351,0.01366530114580262,0.8113573575292833,0.010627468839893454\n",
            "Well,CLDN7,1.25148187649834,0.02954690500048596,0.807771980309254,0.008857485147136796\n",
            "Well,ATCAY,1.0729296283247274,0.019889377504453132,0.8133298345035624,0.009403653408281188\n",
            "Well,C2orf80,0.4658946484094333,0.015283496031730038,0.8070441751220254,0.008384737589387486\n",
            "Well,ATP6V1G2,0.8246943857814175,0.006018074491431844,0.8071178570262589,0.00763091210545998\n",
            "Well,ST14,1.134080189187643,0.028574796464747754,0.8025662941644378,0.008336513327524922\n",
            "Well,SHISA7,0.7049760593170431,0.010375004975865482,0.8050857402561339,0.00906600106448977\n",
            "Well,ELF3,1.5219540210070397,0.024364255145219105,0.8001061254189634,0.005755535934358096\n",
            "Poor,NOBOX,0.34253343569158656,0.019337859573571422,0.044299960605257205,0.008579406090558569\n",
            "Poor,SCGB1D4,0.41429939090861934,0.07880891160310376,0.040923173053346806,0.015960261750353123\n",
            "Poor,RPL9,1.7656664767497303,0.012566022498070924,0.04351154253999151,0.009248444741726022\n",
            "Poor,SPATA8,0.22925479145038763,0.01789538831342666,0.04378066547145595,0.016513828267616406\n",
            "Poor,C2orf78,0.16040045702500585,0.03866176301689748,0.06425087714862106,0.03429745648740566\n",
            "Poor,FAM138B,0.06821116420346111,0.012545262397226536,0.044727081360238466,0.021153876905812025\n",
            "Poor,LCE3C,0.30324010872597534,0.04283951412038879,0.04351486514950298,0.005882273697853196\n",
            "Poor,POU5F2,0.1164641141360255,0.014759033254436334,0.045162738718429095,0.012999516310353948\n",
            "Poor,OR2D3,0.03908945014582941,0.007684687424247162,0.034472261525157075,0.019536057114354258\n",
            "Poor,PABPC1P2,0.12400078495908648,0.00890774643176254,0.047060193530742075,0.009510372538709278\n",
            "Poor,CATSPER4,0.048181222118577983,0.0029832132244399768,0.050600695719971424,0.009660545084914382\n",
            "Poor,FTHL17,0.582647175809335,0.040049638658875106,0.04131893362087123,0.011688609821524205\n",
            "Poor,OR5K1,0.04230318714631572,0.0029099692297820095,0.04591515573229131,0.012378527722015998\n",
            "Poor,SNORA3,0.06017748964224428,0.013021092676293745,0.050757592984527776,0.029287617640212232\n",
            "Poor,IL13,0.2669075186485121,0.03068706806192009,0.04298999556807246,0.00979267157661354\n",
            "Poor,C10orf122,0.1321761014822092,0.02318726903755297,0.030573866945643145,0.02871586050558923\n",
            "Poor,SULT1C3,0.47252013649635016,0.07920464900770613,0.04208879730469275,0.014747042140318512\n",
            "Poor,KRT38,0.39332452251624467,0.09254647997547943,0.04311084686048006,0.013020035997127234\n",
            "Poor,TMPRSS12,0.1458866388667049,0.021177079524981757,0.05094928885619354,0.012428285550041883\n",
            "Poor,C4orf11,0.050709503586776346,0.017026953137053144,0.03932385376929286,0.017902752233654392\n"
          ],
          "name": "stdout"
        }
      ]
    },
    {
      "cell_type": "markdown",
      "metadata": {
        "id": "9ZUZ_vLVLjk7"
      },
      "source": [
        "The code above outputs text that can easily be put into a .csv file, showing the mean and standard deviation of each gene's RMSE and R2 respectively.\r\n",
        "\r\n",
        "A quick summary:\r\n",
        "* Mean RMSE is generally higher well-expressed than poorly-expressed, although both vary heavily.\r\n",
        "* Standard deviation RMSE is about the same average in both categories, but the poorly-expressed ones vary more.\r\n",
        "* Mean R2 is consistently much higher well-expressed than poorly-expressed, with no outliers and very little variance.\r\n",
        "* Standard deviation R2 is the same situation as standard RMSE: about the same average in both categories, but the poorly-expressed ones vary more."
      ]
    },
    {
      "cell_type": "markdown",
      "metadata": {
        "id": "bAV5Nq79Yggc"
      },
      "source": [
        "**2.2:** Visualize and compare the performance of the well expressed gene set to the poorly expressed gene set using R2.  Draw histograms of the R2s for both sets on the same plot; one histogram comparison should be done for train and one for test. (matplotlib has builtin histogram-drawing functions, see the documentation.)\n",
        "\n",
        "Describe the differences you see across the well and poorly expressed gene sets."
      ]
    },
    {
      "cell_type": "code",
      "metadata": {
        "id": "msGn9zo9YqSD",
        "colab": {
          "base_uri": "https://localhost:8080/",
          "height": 404
        },
        "outputId": "4468fc8f-f2fd-4b0f-d361-6314b1e0f1c9"
      },
      "source": [
        "num_bins = 100\r\n",
        "allR2s = []\r\n",
        "\r\n",
        "# adds every single R2 value to the list, not just the means\r\n",
        "for gene in r2List:\r\n",
        "  allR2s += r2List[gene]\r\n",
        "\r\n",
        "f = plt.figure() \r\n",
        "f.set_figwidth(10) \r\n",
        "f.set_figheight(6) \r\n",
        "\r\n",
        "n, bins, patches = plt.hist(allR2s, num_bins, facecolor = \"blue\", alpha = 0.5)\r\n",
        "\r\n",
        "plt.xlabel(\"R2\")\r\n",
        "plt.ylabel(\"Frequency\")\r\n",
        "plt.title(\"R2 of well-expressed and poorly-expressed genes\")\r\n",
        "\r\n",
        "plt.subplots_adjust(left = 0.15)\r\n",
        "plt.show()"
      ],
      "execution_count": null,
      "outputs": [
        {
          "output_type": "display_data",
          "data": {
            "image/png": "[encoded data removed]",
            "text/plain": [
              "<Figure size 720x432 with 1 Axes>"
            ]
          },
          "metadata": {
            "tags": [],
            "needs_background": "light"
          }
        }
      ]
    },
    {
      "cell_type": "markdown",
      "metadata": {
        "id": "jd9uq_NGdRX8"
      },
      "source": [
        "The histogram shows that the well-formed genes vary quite a bit more than the poorly-formed genes. Well-formed genes have a skewed distribution, while poorly-formed genes resemble a normal distrubtion."
      ]
    },
    {
      "cell_type": "markdown",
      "metadata": {
        "id": "LFMhg2Q1Yto7"
      },
      "source": [
        "**2.3:** In this part, we want to add a categorical feature as the 22nd predictor. Tissue type is an important factor in explaining the gene expression profile. Our samples come from 32 tissue types which are provided to you in a separate file. Use dummy variable coding to include the tissue type in your regression.  \n",
        "\n",
        "Recall that in dummy variable coding of categorical variable X with n levels, we add n - 1 columns to our features. The first level is coded as zero and then for each level, we set one of the columns to 1. For example, if we have a categorical feature for \"Direction\" with four levels \"South, West, North, East\" the following codes are required:\n",
        "\n",
        "|                         | West | North | East |\n",
        "|-------------------------|:----:|:-----:|:----:|\n",
        "| Code if Direction=South |   0  |   0   |   0  |\n",
        "| Code if Direction=West  |   1  |   0   |   0  |\n",
        "| Code if Direction=North |   0  |   1   |   0  |\n",
        "| Code if Direction=East  |   0  |   0   |   1  |\n",
        "\n",
        "So for 32 values for the \"Tissue\" feature, you need to add 31 columns to your feature (design) matrix. With the newly added feature(s) run the linear regressions again with the 80/20 split and report any change in prediction performance of your model. Also, please *try* to find an explaination for any change in performance you see."
      ]
    },
    {
      "cell_type": "code",
      "metadata": {
        "id": "Xt1MqYDrZCA7",
        "colab": {
          "base_uri": "https://localhost:8080/",
          "height": 206
        },
        "outputId": "1a32df49-43d0-47fa-b1c3-134d2d2daa4b"
      },
      "source": [
        "# Load tissue data\n",
        "tissue_type_URL='https://github.com/efosler/cse5522data/raw/master/cancerType-x-Categorical.csv'\n",
        "tissue_dataframe=pd.read_csv(tissue_type_URL)\n",
        "tissue_dataframe.head()"
      ],
      "execution_count": null,
      "outputs": [
        {
          "output_type": "execute_result",
          "data": {
            "text/html": [
              "<div>\n",
              "<style scoped>\n",
              "    .dataframe tbody tr th:only-of-type {\n",
              "        vertical-align: middle;\n",
              "    }\n",
              "\n",
              "    .dataframe tbody tr th {\n",
              "        vertical-align: top;\n",
              "    }\n",
              "\n",
              "    .dataframe thead th {\n",
              "        text-align: right;\n",
              "    }\n",
              "</style>\n",
              "<table border=\"1\" class=\"dataframe\">\n",
              "  <thead>\n",
              "    <tr style=\"text-align: right;\">\n",
              "      <th></th>\n",
              "      <th>Unnamed: 0</th>\n",
              "      <th>cancerType</th>\n",
              "    </tr>\n",
              "  </thead>\n",
              "  <tbody>\n",
              "    <tr>\n",
              "      <th>0</th>\n",
              "      <td>1</td>\n",
              "      <td>ACC</td>\n",
              "    </tr>\n",
              "    <tr>\n",
              "      <th>1</th>\n",
              "      <td>2</td>\n",
              "      <td>ACC</td>\n",
              "    </tr>\n",
              "    <tr>\n",
              "      <th>2</th>\n",
              "      <td>3</td>\n",
              "      <td>ACC</td>\n",
              "    </tr>\n",
              "    <tr>\n",
              "      <th>3</th>\n",
              "      <td>4</td>\n",
              "      <td>ACC</td>\n",
              "    </tr>\n",
              "    <tr>\n",
              "      <th>4</th>\n",
              "      <td>5</td>\n",
              "      <td>ACC</td>\n",
              "    </tr>\n",
              "  </tbody>\n",
              "</table>\n",
              "</div>"
            ],
            "text/plain": [
              "   Unnamed: 0 cancerType\n",
              "0           1        ACC\n",
              "1           2        ACC\n",
              "2           3        ACC\n",
              "3           4        ACC\n",
              "4           5        ACC"
            ]
          },
          "metadata": {
            "tags": []
          },
          "execution_count": 7
        }
      ]
    },
    {
      "cell_type": "code",
      "metadata": {
        "id": "J7hHn-zkZCYE"
      },
      "source": [
        "cancerTypeCount = 0\r\n",
        "cancerList = {}\r\n",
        "tissue = np.array(tissue_dataframe)[:,1:]\r\n",
        "cancer = tissue[0][0]\r\n",
        "\r\n",
        "# make list of cancer types with corresponding numbers\r\n",
        "for i in range(len(tissue_dataframe)):\r\n",
        "  if tissue[i][0] not in cancerList:\r\n",
        "    cancerList[tissue[i][0]] = cancerTypeCount\r\n",
        "    cancerTypeCount += 1\r\n",
        "\r\n",
        "# make a copy of miR and expand it to include the cancers\r\n",
        "miRWithCancer = miR.copy()\r\n",
        "miRWithCancer = np.pad(miRWithCancer, [(0, 0), (0, cancerTypeCount-1)], \"constant\", constant_values = (0, 0))\r\n",
        "\r\n",
        "# then do the dummy coding like the example above\r\n",
        "for i in range(len(tissue_dataframe)):\r\n",
        "  if (cancerList[tissue[i][0]] > 0):\r\n",
        "    miRWithCancer[i][cancerList[tissue[i][0]] + 20] = 1"
      ],
      "execution_count": null,
      "outputs": []
    },
    {
      "cell_type": "code",
      "metadata": {
        "id": "u6rZwvZmbXQV"
      },
      "source": [
        "print(\"Gene Type,Gene Name,RMSE Mean,RMSE St Dev,R2 Mean, R2 St Dev\")\r\n",
        "for i in range(10):\r\n",
        "  miRWithCancer_train, miRWithCancer_test, mRNA_well_train, mRNA_well_test, mRNA_poor_train, mRNA_poor_test = train_test_split(miRWithCancer,\r\n",
        "                                                                                          mRNA_well, mRNA_poor,\r\n",
        "                                                                                          test_size=0.2)\r\n",
        "  genePredict(mRNA_well_df, miRWithCancer_train, miRWithCancer_test, mRNA_well_train, mRNA_well_test)\r\n",
        "  genePredict(mRNA_poor_df, miRWithCancer_train, miRWithCancer_test, mRNA_poor_train, mRNA_poor_test)\r\n",
        "\r\n",
        "for gene in rmseList:\r\n",
        "  print(\"{},{},{},{},{},{}\".format(wellOrPoor(gene), gene, mean(rmseList[gene]), pstdev(rmseList[gene]), mean(r2List[gene]), pstdev(r2List[gene])))\r\n",
        "# note that after running this code, you can run the code in part 2.2 again for a different looking histogram"
      ],
      "execution_count": null,
      "outputs": []
    },
    {
      "cell_type": "markdown",
      "metadata": {
        "id": "8UWR8pT7c1hG"
      },
      "source": [
        "The addition of dummy-coded cancer variables increases the variance of the R2 for both the well-expressed and poorly-expressed genes, even leading to a few negative values for poorly-expressed genes. Perhaps the greater degree of variation has to do with how the cancer variables are discrete rather than continuous, making the differences between values more steep."
      ]
    },
    {
      "cell_type": "markdown",
      "metadata": {
        "id": "iJ65ksalaTWE"
      },
      "source": [
        "---\n",
        "---\n",
        "\n",
        "**Part 3: Logistic Regression (40 points)**\n",
        "\n",
        "In this exercise, you will implement logistic regression by gradient descent.  You <u>should not</u> use off the shelf logistic regression solvers for this problem. (Though you may use them to check your work.) This will also exercise your data skills, so you may want to read up on the pandas toolkit.\n",
        "\n",
        "Problem: you are given a dataset of 400 people; half female/half male, also half of the people are basketball players and half are not.   The data has three features: height (inches), weight (pounds), and female (0=male, 1=female).  The variable you want to predict is basketball player (0=non-player, 1=player)."
      ]
    },
    {
      "cell_type": "code",
      "metadata": {
        "id": "A9Zz6NTiB1Gf",
        "colab": {
          "base_uri": "https://localhost:8080/",
          "height": 206
        },
        "outputId": "0fcc44b0-2e42-4a21-aa82-6c7c7480efee"
      },
      "source": [
        "basketball_URL='https://raw.githubusercontent.com/efosler/cse5522data/master/height_vs_weight.csv'\n",
        "basketball_df=pd.read_csv(basketball_URL)\n",
        "basketball_df.head()\n",
        "\n",
        "#You will need to extract the target and dependent/feature variables yourself\n",
        "#Refer to the previous parts for examples"
      ],
      "execution_count": 5,
      "outputs": [
        {
          "output_type": "execute_result",
          "data": {
            "text/html": [
              "<div>\n",
              "<style scoped>\n",
              "    .dataframe tbody tr th:only-of-type {\n",
              "        vertical-align: middle;\n",
              "    }\n",
              "\n",
              "    .dataframe tbody tr th {\n",
              "        vertical-align: top;\n",
              "    }\n",
              "\n",
              "    .dataframe thead th {\n",
              "        text-align: right;\n",
              "    }\n",
              "</style>\n",
              "<table border=\"1\" class=\"dataframe\">\n",
              "  <thead>\n",
              "    <tr style=\"text-align: right;\">\n",
              "      <th></th>\n",
              "      <th>height</th>\n",
              "      <th>weight</th>\n",
              "      <th>female</th>\n",
              "      <th>basketball</th>\n",
              "    </tr>\n",
              "  </thead>\n",
              "  <tbody>\n",
              "    <tr>\n",
              "      <th>0</th>\n",
              "      <td>74.8</td>\n",
              "      <td>221.2</td>\n",
              "      <td>0</td>\n",
              "      <td>1</td>\n",
              "    </tr>\n",
              "    <tr>\n",
              "      <th>1</th>\n",
              "      <td>65.6</td>\n",
              "      <td>147.3</td>\n",
              "      <td>1</td>\n",
              "      <td>1</td>\n",
              "    </tr>\n",
              "    <tr>\n",
              "      <th>2</th>\n",
              "      <td>74.8</td>\n",
              "      <td>166.8</td>\n",
              "      <td>0</td>\n",
              "      <td>0</td>\n",
              "    </tr>\n",
              "    <tr>\n",
              "      <th>3</th>\n",
              "      <td>68.5</td>\n",
              "      <td>174.1</td>\n",
              "      <td>0</td>\n",
              "      <td>0</td>\n",
              "    </tr>\n",
              "    <tr>\n",
              "      <th>4</th>\n",
              "      <td>66.8</td>\n",
              "      <td>156.6</td>\n",
              "      <td>1</td>\n",
              "      <td>0</td>\n",
              "    </tr>\n",
              "  </tbody>\n",
              "</table>\n",
              "</div>"
            ],
            "text/plain": [
              "   height  weight  female  basketball\n",
              "0    74.8   221.2       0           1\n",
              "1    65.6   147.3       1           1\n",
              "2    74.8   166.8       0           0\n",
              "3    68.5   174.1       0           0\n",
              "4    66.8   156.6       1           0"
            ]
          },
          "metadata": {
            "tags": []
          },
          "execution_count": 5
        }
      ]
    },
    {
      "cell_type": "markdown",
      "metadata": {
        "id": "jD2aviGwzT05"
      },
      "source": [
        "Implement gradient descent for logistic regression.  You may want to consult the notes in the regression model on logistic regression for help.\n",
        "\n",
        "Train the model on 80% of the data, reserving 20% for the test set.\n",
        "\n",
        "*Hint:* You can re-use a significant amount of your code from the first hands-on activity. (Alternately, you may also re-use code from the example solution I have provided for the first hands-on activity.)\n",
        "\n",
        "*Warning*: You may find it necessary to normalize the feature data, just like in first hands-on activity! However, unlike the hands-on, <u>do not</u> normalize the target data.\n",
        "\n",
        "**3.1:** Train the model first to predict the probability of basketball given height.   Evaluate on the test set in a few ways:\n",
        "\n",
        "Compute the average loss on the test set: $$-\\frac{1}{N}\\sum_{i-1}^N\\log\\left(target_i\\cdot P\\left(prediction_i\\right)\\:+\\:\\left(1-target_i\\right)\\left(1-P\\left(prediction_i\\right)\\right)\\right)$$\n",
        "\n",
        "(Note this is just a clever way to say use P(prediction) when target is 1, 1-P(prediction) when target is 0.)\n",
        "\n",
        "Compute the accuracy on the test set by predicting someone is a basketball player if P(prediction) > 0.5.\n",
        "\n",
        "Plot the training data as well as the learned logistic regression function, on the same plot. (I'm looking for somthing similar to what is shown on Slide 29 of Week 2.)"
      ]
    },
    {
      "cell_type": "code",
      "metadata": {
        "id": "PpgAGmjzaaVq",
        "colab": {
          "base_uri": "https://localhost:8080/"
        },
        "outputId": "7d8de0d6-0614-408d-e591-174534ffeadd"
      },
      "source": [
        "height = np.array(basketball_df['height'],dtype='float').reshape(-1,1)\r\n",
        "basketball = np.array(basketball_df['basketball'],dtype='float').reshape(-1,1)\r\n",
        "\r\n",
        "height_norm = (height-np.mean(height))/np.std(height)\r\n",
        "\r\n",
        "height_train, height_test, basketball_train, basketball_test = train_test_split(height_norm, basketball, test_size=0.2, random_state=5)\r\n",
        "\r\n",
        "#print(height)\r\n",
        "#print(height_train)\r\n",
        "\r\n",
        "# NOTE: this code is made to also account for multivariate regressions used later\r\n",
        "def computeLogisticGradient(weights,features,targets):\r\n",
        "  featureSum = features[0] * weights[1]\r\n",
        "  if len(features) > 1:\r\n",
        "    for i in range(len(features) - 1):\r\n",
        "      featureSum += features[i+1] * weights[i+2]\r\n",
        "  predictions = 1 / (1 + np.exp(-1 * (featureSum + weights[0])))\r\n",
        "  # print(predictions)\r\n",
        "  # errors = abs(targets - predictions)\r\n",
        "  errors = targets - predictions\r\n",
        "  gradient = np.array([-2.0*np.average(errors),-2.0*np.average(features[0]*errors)])\r\n",
        "  if len(features) > 1:\r\n",
        "    for i in range(len(features) - 1):\r\n",
        "      gradient = np.concatenate([gradient, [-2.0*np.average(features[i+1]*errors)]])\r\n",
        "  return gradient\r\n",
        "\r\n",
        "def computeGradientDescentWeightUpdate(weights, features, targets, learning_rate):\r\n",
        "\r\n",
        "  gradient=computeLogisticGradient(weights,features,targets)\r\n",
        "  weights = weights - learning_rate * gradient\r\n",
        "\r\n",
        "  return weights\r\n",
        "\r\n",
        "def run(weights,feature,target,learning_rate,total_iterations=10000,iterations_per_report=1000):\r\n",
        "  for step in range(total_iterations):\r\n",
        "    weights=computeGradientDescentWeightUpdate(weights,feature,target,learning_rate)\r\n",
        "    if (step%iterations_per_report == 0):\r\n",
        "      print(weights)\r\n",
        "  print(weights)\r\n",
        "  return weights\r\n",
        "\r\n",
        "weights = [1, 1]\r\n",
        "learning_rate = 0.001\r\n",
        "final_weights=run(weights, [height_train], basketball_train, learning_rate, total_iterations=100000, iterations_per_report=10000)"
      ],
      "execution_count": 77,
      "outputs": [
        {
          "output_type": "stream",
          "text": [
            "[0.99961454 1.0000129 ]\n",
            "[0.03658396 0.83732851]\n",
            "[0.0215234  0.82274068]\n",
            "[0.02128411 0.82217045]\n",
            "[0.02127934 0.82214937]\n",
            "[0.02127922 0.8221486 ]\n",
            "[0.02127921 0.82214857]\n",
            "[0.02127921 0.82214857]\n",
            "[0.02127921 0.82214857]\n",
            "[0.02127921 0.82214857]\n",
            "[0.02127921 0.82214857]\n"
          ],
          "name": "stdout"
        }
      ]
    },
    {
      "cell_type": "code",
      "metadata": {
        "colab": {
          "base_uri": "https://localhost:8080/"
        },
        "id": "bx8SdIB4V_FF",
        "outputId": "ac8dbbbd-948f-492a-9e27-44b766aa2709"
      },
      "source": [
        "# compute average loss\r\n",
        "avgLoss = 0\r\n",
        "for i in range(len(height_test)):\r\n",
        "  prediction = 1 / (1 + np.exp(-1 * (height_test[i] * final_weights[1] + final_weights[0])))\r\n",
        "  target = basketball_test[i]\r\n",
        "  avgLoss += np.log(target * prediction + (1 - target) * (1 - prediction))\r\n",
        "avgLoss *= -1 / len(height_test)\r\n",
        "print(\"Average loss (height): {}\".format(avgLoss))"
      ],
      "execution_count": 78,
      "outputs": [
        {
          "output_type": "stream",
          "text": [
            "Average loss (height): [0.62574926]\n"
          ],
          "name": "stdout"
        }
      ]
    },
    {
      "cell_type": "code",
      "metadata": {
        "colab": {
          "base_uri": "https://localhost:8080/"
        },
        "id": "9t3pE18wBIdJ",
        "outputId": "0d9c5f32-883a-4145-dada-6a7ada84106e"
      },
      "source": [
        "# compute accuracy\r\n",
        "accuracy = 0\r\n",
        "for i in range(len(height_test)):\r\n",
        "  prediction = 1 / (1 + np.exp(-1 * (height_test[i] * final_weights[1] + final_weights[0])))\r\n",
        "  target = basketball_test[i]\r\n",
        "  if abs(target - prediction) < 0.5:\r\n",
        "    accuracy += 1\r\n",
        "accuracy *= 1 / len(height_test)\r\n",
        "print(\"Accuracy (height): {}\".format(accuracy))"
      ],
      "execution_count": 80,
      "outputs": [
        {
          "output_type": "stream",
          "text": [
            "Accuracy (height): 0.6875\n"
          ],
          "name": "stdout"
        }
      ]
    },
    {
      "cell_type": "code",
      "metadata": {
        "colab": {
          "base_uri": "https://localhost:8080/",
          "height": 404
        },
        "id": "TN4PvlhfCEN1",
        "outputId": "85f5e0fe-63c8-46e5-a982-6c3004461dd1"
      },
      "source": [
        "# function plot\r\n",
        "import matplotlib.pylab as pylab\r\n",
        "x = pylab.linspace(-3, 3,10)\r\n",
        "y = pylab.linspace(0,1,10)\r\n",
        "\r\n",
        "f = plt.figure() \r\n",
        "f.set_figwidth(10) \r\n",
        "f.set_figheight(6) \r\n",
        "\r\n",
        "pylab.plot(x, 1 / (1 + np.exp(-1 * (final_weights[1] * x + final_weights[0]))), 'r', label = ' x linspace(-10,10,10)')\r\n",
        "plt.scatter(height_train, basketball_train)\r\n",
        "plt.xlabel(\"Height (normalized)\")\r\n",
        "plt.ylabel(\"Basketball player (true/false\")\r\n",
        "plt.title(\"Basketball player data\")\r\n",
        "plt.show()"
      ],
      "execution_count": 116,
      "outputs": [
        {
          "output_type": "display_data",
          "data": {
            "image/png": "[encoded data removed]",
            "text/plain": [
              "<Figure size 720x432 with 1 Axes>"
            ]
          },
          "metadata": {
            "tags": [],
            "needs_background": "light"
          }
        }
      ]
    },
    {
      "cell_type": "markdown",
      "metadata": {
        "id": "UPfbTzMgCXYB"
      },
      "source": [
        "**3.2:**  Now train the model to be gender dependent by incorporating both the height and female features.  Evaluate on the same test set with average loss and accuracy.\n",
        "\n",
        "Plot the logistic regression function across heights for male and female. (In other words, you will now plot two sigmoid curves, one for when gender=0, and one for when gender=1.)\n",
        "\n",
        "Do the learned functions make sense relative to one another? Explain."
      ]
    },
    {
      "cell_type": "code",
      "metadata": {
        "id": "a4GbbvxNCZ4N",
        "colab": {
          "base_uri": "https://localhost:8080/"
        },
        "outputId": "b8573296-6deb-473b-d258-8dd8068ef146"
      },
      "source": [
        "female = np.array(basketball_df['female'],dtype='float').reshape(-1,1)\r\n",
        "\r\n",
        "female_train, female_test = train_test_split(female, test_size=0.2, random_state=5)\r\n",
        "\r\n",
        "\r\n",
        "weights = [1, 1, 1]\r\n",
        "learning_rate = 0.01\r\n",
        "final_weights=run(weights, [height_train, female_train], basketball_train, learning_rate, total_iterations=100000, iterations_per_report=10000)"
      ],
      "execution_count": 85,
      "outputs": [
        {
          "output_type": "stream",
          "text": [
            "[0.99425439 1.0014909  0.99701478]\n",
            "[-0.59202832  1.20527542  1.20759953]\n",
            "[-0.59618608  1.20819861  1.21486868]\n",
            "[-0.59622842  1.20822839  1.2149427 ]\n",
            "[-0.59622885  1.20822869  1.21494345]\n",
            "[-0.59622885  1.20822869  1.21494346]\n",
            "[-0.59622885  1.20822869  1.21494346]\n",
            "[-0.59622885  1.20822869  1.21494346]\n",
            "[-0.59622885  1.20822869  1.21494346]\n",
            "[-0.59622885  1.20822869  1.21494346]\n",
            "[-0.59622885  1.20822869  1.21494346]\n"
          ],
          "name": "stdout"
        }
      ]
    },
    {
      "cell_type": "code",
      "metadata": {
        "colab": {
          "base_uri": "https://localhost:8080/"
        },
        "id": "OrsuG52lS4yn",
        "outputId": "4ab5430c-c925-48b6-91c8-5a55c82aa247"
      },
      "source": [
        "# compute average loss\r\n",
        "avgLoss = 0\r\n",
        "for i in range(len(height_test)):\r\n",
        "  prediction = 1 / (1 + np.exp(-1 * (female_test[i] * final_weights[2] + height_test[i] * final_weights[1] + final_weights[0])))\r\n",
        "  target = basketball_test[i]\r\n",
        "  avgLoss += np.log(target * prediction + (1 - target) * (1 - prediction))\r\n",
        "avgLoss *= -1 / len(height_test)\r\n",
        "print(\"Average loss (height and gender): {}\".format(avgLoss))"
      ],
      "execution_count": 64,
      "outputs": [
        {
          "output_type": "stream",
          "text": [
            "Average loss: [0.57737803]\n"
          ],
          "name": "stdout"
        }
      ]
    },
    {
      "cell_type": "code",
      "metadata": {
        "colab": {
          "base_uri": "https://localhost:8080/"
        },
        "id": "5L5P_kKmTC6j",
        "outputId": "c967faa5-8661-48df-ba16-9b5edac62b5d"
      },
      "source": [
        "# compute accuracy\r\n",
        "accuracy = 0\r\n",
        "for i in range(len(height_test)):\r\n",
        "  prediction = 1 / (1 + np.exp(-1 * (female_test[i] * final_weights[2] + height_test[i] * final_weights[1] + final_weights[0])))\r\n",
        "  target = basketball_test[i]\r\n",
        "  if abs(target - prediction) < 0.5:\r\n",
        "    accuracy += 1\r\n",
        "accuracy *= 1 / len(height_test)\r\n",
        "print(\"Accuracy (height and gender): {}\".format(accuracy))"
      ],
      "execution_count": 67,
      "outputs": [
        {
          "output_type": "stream",
          "text": [
            "Accuracy: 0.7000000000000001\n"
          ],
          "name": "stdout"
        }
      ]
    },
    {
      "cell_type": "code",
      "metadata": {
        "id": "-K1SJdXQTTS6"
      },
      "source": [
        "# function plot\r\n",
        "import matplotlib.pylab as pylab\r\n",
        "x = pylab.linspace(-3, 3,10)\r\n",
        "y = pylab.linspace(0,1,10)\r\n",
        "\r\n",
        "f = plt.figure() \r\n",
        "f.set_figwidth(10) \r\n",
        "f.set_figheight(6) \r\n",
        "\r\n",
        "pylab.plot(x, 1 / (1 + np.exp(-1 * (final_weights[1] * x + final_weights[0]))), 'r', label = ' x linspace(-10,10,10)')\r\n",
        "plt.scatter(height_train, basketball_train)\r\n",
        "plt.xlabel(\"Height (normalized)\")\r\n",
        "plt.ylabel(\"Basketball player (true/false\")\r\n",
        "plt.title(\"Basketball player data\")\r\n",
        "plt.show()"
      ],
      "execution_count": null,
      "outputs": []
    },
    {
      "cell_type": "code",
      "metadata": {
        "colab": {
          "base_uri": "https://localhost:8080/"
        },
        "id": "cubeevjTpm8K",
        "outputId": "5eb499f8-f6d2-4a27-a3f0-610a303db678"
      },
      "source": [
        "# determines sigmoid functions only for males and females respectively\r\n",
        "basketball_all = np.array(basketball_df,dtype='float')\r\n",
        "basketball_all\r\n",
        "males = basketball_all[basketball_all[:,2] == 0]\r\n",
        "females = basketball_all[basketball_all[:,2] == 1]\r\n",
        "\r\n",
        "male_height = males[:,0]\r\n",
        "male_height_norm = (male_height-np.mean(male_height))/np.std(male_height)\r\n",
        "\r\n",
        "female_height = females[:,0]\r\n",
        "female_height_norm = (female_height-np.mean(female_height))/np.std(female_height)\r\n",
        "\r\n",
        "weights = [1, 1]\r\n",
        "learning_rate = 0.001\r\n",
        "final_male_weights=run(weights, [male_height_norm], males[:,3], learning_rate, total_iterations=100000, iterations_per_report=10000)\r\n",
        "                       \r\n",
        "weights = [1, 1]\r\n",
        "learning_rate = 0.001\r\n",
        "final_female_weights=run(weights, [female_height_norm], females[:,3], learning_rate, total_iterations=100000, iterations_per_report=10000)"
      ],
      "execution_count": 69,
      "outputs": [
        {
          "output_type": "stream",
          "text": [
            "[0.9996089  1.00012519]\n",
            "[0.02953351 1.21793517]\n",
            "[0.00949884 1.22279366]\n",
            "[0.00907679 1.22312165]\n",
            "[0.00906871 1.2231475 ]\n",
            "[0.00906862 1.22314963]\n",
            "[0.00906863 1.22314981]\n",
            "[0.00906863 1.22314982]\n",
            "[0.00906863 1.22314983]\n",
            "[0.00906863 1.22314983]\n",
            "[0.00906863 1.22314983]\n",
            "[0.99960871 1.00001031]\n",
            "[0.02029759 0.84238276]\n",
            "[0.00544744 0.82972552]\n",
            "[0.00523374 0.82925018]\n",
            "[0.00523025 0.82923298]\n",
            "[0.00523017 0.82923236]\n",
            "[0.00523017 0.82923234]\n",
            "[0.00523017 0.82923234]\n",
            "[0.00523017 0.82923234]\n",
            "[0.00523017 0.82923234]\n",
            "[0.00523017 0.82923234]\n"
          ],
          "name": "stdout"
        }
      ]
    },
    {
      "cell_type": "code",
      "metadata": {
        "colab": {
          "base_uri": "https://localhost:8080/",
          "height": 404
        },
        "id": "tE5_HE1q7P9N",
        "outputId": "13b23c49-d4d0-481c-ce94-5681ac7d49b9"
      },
      "source": [
        "# function plot\r\n",
        "import matplotlib.pylab as pylab\r\n",
        "x = pylab.linspace(-3, 3,10)\r\n",
        "y = pylab.linspace(0,1,10)\r\n",
        "\r\n",
        "f = plt.figure() \r\n",
        "f.set_figwidth(10) \r\n",
        "f.set_figheight(6) \r\n",
        "\r\n",
        "pylab.plot(x, 1 / (1 + np.exp(-1 * (final_male_weights[1] * x + final_male_weights[0]))), 'r', label = ' x linspace(-10,10,10)', color = 'blue')\r\n",
        "pylab.plot(x, 1 / (1 + np.exp(-1 * (final_female_weights[1] * x + final_female_weights[0]))), 'r', label = ' x linspace(-10,10,10)', color = 'pink')\r\n",
        "plt.scatter(male_height_norm, males[:,3], color = 'blue')\r\n",
        "plt.scatter(female_height_norm, females[:,3], color = 'pink')\r\n",
        "plt.xlabel(\"Height (normalized)\")\r\n",
        "plt.ylabel(\"Basketball player (true/false\")\r\n",
        "plt.title(\"Basketball player sigmoid curves (blue male, pink female)\")\r\n",
        "plt.show()"
      ],
      "execution_count": 66,
      "outputs": [
        {
          "output_type": "display_data",
          "data": {
            "image/png": "[encoded data removed]",
            "text/plain": [
              "<Figure size 720x432 with 1 Axes>"
            ]
          },
          "metadata": {
            "tags": [],
            "needs_background": "light"
          }
        }
      ]
    },
    {
      "cell_type": "markdown",
      "metadata": {
        "id": "QmdEtceJ8BXK"
      },
      "source": [
        "The sigmoid curves for the male and female characters are fairly similar, except the male curve is somewhat steeper. This difference means that these learned functions make a reasonable amount of sense relative to one another."
      ]
    },
    {
      "cell_type": "markdown",
      "metadata": {
        "id": "xo-IlYSjCe42"
      },
      "source": [
        "**3.3:** Incorporate the weight feature (training (height, weight) and (height, weight, gender)). Evaluate on average loss and accuracy.  Does weight help as a feature?"
      ]
    },
    {
      "cell_type": "code",
      "metadata": {
        "id": "Dom0ml3UCiIM",
        "colab": {
          "base_uri": "https://localhost:8080/"
        },
        "outputId": "e4e458df-315e-48f2-9f73-fd6de88ccaa0"
      },
      "source": [
        "# height and weight\r\n",
        "# weight is not to be confused with \"weights\", the weights used for the logistic regression\r\n",
        "weight = np.array(basketball_df['weight'],dtype='float').reshape(-1,1)\r\n",
        "\r\n",
        "weight_norm = (weight-np.mean(weight))/np.std(weight)\r\n",
        "\r\n",
        "weight_train, weight_test = train_test_split(weight_norm, test_size=0.2, random_state=5)\r\n",
        "\r\n",
        "weights = [1, 1, 1]\r\n",
        "learning_rate = 0.01\r\n",
        "final_weights=run(weights, [height_train, weight_train], basketball_train, learning_rate, total_iterations=100000, iterations_per_report=10000)"
      ],
      "execution_count": 82,
      "outputs": [
        {
          "output_type": "stream",
          "text": [
            "[0.99713434 0.99835971 0.99945067]\n",
            "[-0.05941032 -1.00240748  2.22515275]\n",
            "[-0.06692171 -1.08724578  2.32475961]\n",
            "[-0.06750047 -1.09366627  2.33232159]\n",
            "[-0.06754521 -1.094162    2.33290559]\n",
            "[-0.06754867 -1.09420033  2.33295075]\n",
            "[-0.06754894 -1.0942033   2.33295424]\n",
            "[-0.06754896 -1.09420352  2.33295451]\n",
            "[-0.06754896 -1.09420354  2.33295453]\n",
            "[-0.06754896 -1.09420354  2.33295453]\n",
            "[-0.06754896 -1.09420354  2.33295453]\n"
          ],
          "name": "stdout"
        }
      ]
    },
    {
      "cell_type": "code",
      "metadata": {
        "colab": {
          "base_uri": "https://localhost:8080/"
        },
        "id": "AestAYBF_j71",
        "outputId": "53881035-c3bc-41a5-9889-4de756f9e417"
      },
      "source": [
        "# compute average loss\r\n",
        "avgLoss = 0\r\n",
        "for i in range(len(height_test)):\r\n",
        "  prediction = 1 / (1 + np.exp(-1 * (weight_test[i] * final_weights[2] + height_test[i] * final_weights[1] + final_weights[0])))\r\n",
        "  target = basketball_test[i]\r\n",
        "  avgLoss += np.log(target * prediction + (1 - target) * (1 - prediction))\r\n",
        "avgLoss *= -1 / len(height_test)\r\n",
        "print(\"Average loss (height and weight): {}\".format(avgLoss))\r\n",
        "# compute accuracy\r\n",
        "accuracy = 0\r\n",
        "for i in range(len(height_test)):\r\n",
        "  prediction = 1 / (1 + np.exp(-1 * (weight_test[i] * final_weights[2] + height_test[i] * final_weights[1] + final_weights[0])))\r\n",
        "  target = basketball_test[i]\r\n",
        "  if abs(target - prediction) < 0.5:\r\n",
        "    accuracy += 1\r\n",
        "accuracy *= 1 / len(height_test)\r\n",
        "print(\"Accuracy (height and weight): {}\".format(accuracy))"
      ],
      "execution_count": 83,
      "outputs": [
        {
          "output_type": "stream",
          "text": [
            "Average loss (height and weight): [0.55248317]\n",
            "Accuracy (height and weight): 0.7000000000000001\n"
          ],
          "name": "stdout"
        }
      ]
    },
    {
      "cell_type": "code",
      "metadata": {
        "colab": {
          "base_uri": "https://localhost:8080/"
        },
        "id": "CgnI3a0L_8TD",
        "outputId": "076b6091-6660-4fcb-ac06-c8c8c4b93d23"
      },
      "source": [
        "# height, weight, and gender\r\n",
        "\r\n",
        "weights = [1, 1, 1, 1]\r\n",
        "learning_rate = 0.01\r\n",
        "final_weights=run(weights, [height_train, weight_train, female_train], basketball_train, learning_rate, total_iterations=100000, iterations_per_report=10000)"
      ],
      "execution_count": 86,
      "outputs": [
        {
          "output_type": "stream",
          "text": [
            "[0.99540863 0.9995148  1.00033278 0.99806981]\n",
            "[-0.59590089 -0.61499401  2.14997449  1.03448229]\n",
            "[-0.59358034 -0.70728792  2.25030224  1.01613091]\n",
            "[-0.59307515 -0.71603692  2.25963987  1.01392583]\n",
            "[-0.59302407 -0.71687598  2.26053378  1.01371009]\n",
            "[-0.59301915 -0.71695653  2.26061959  1.01368933]\n",
            "[-0.59301867 -0.71696427  2.26062782  1.01368734]\n",
            "[-0.59301863 -0.71696501  2.26062861  1.01368715]\n",
            "[-0.59301862 -0.71696508  2.26062869  1.01368713]\n",
            "[-0.59301862 -0.71696509  2.2606287   1.01368713]\n",
            "[-0.59301862 -0.71696509  2.2606287   1.01368713]\n"
          ],
          "name": "stdout"
        }
      ]
    },
    {
      "cell_type": "code",
      "metadata": {
        "colab": {
          "base_uri": "https://localhost:8080/"
        },
        "id": "yGuKK3PaAJ5_",
        "outputId": "787b0cad-df32-4240-a776-76f046ce6559"
      },
      "source": [
        "# compute average loss\r\n",
        "avgLoss = 0\r\n",
        "for i in range(len(height_test)):\r\n",
        "  prediction = 1 / (1 + np.exp(-1 * (female_test[i] * final_weights[3] +\r\n",
        "                                     weight_test[i] * final_weights[2] + height_test[i] * final_weights[1] + final_weights[0])))\r\n",
        "  target = basketball_test[i]\r\n",
        "  avgLoss += np.log(target * prediction + (1 - target) * (1 - prediction))\r\n",
        "avgLoss *= -1 / len(height_test)\r\n",
        "print(\"Average loss (height, weight, and gender): {}\".format(avgLoss))\r\n",
        "# compute accuracy\r\n",
        "accuracy = 0\r\n",
        "for i in range(len(height_test)):\r\n",
        "  prediction = 1 / (1 + np.exp(-1 * (female_test[i] * final_weights[3] +\r\n",
        "                                     weight_test[i] * final_weights[2] + height_test[i] * final_weights[1] + final_weights[0])))\r\n",
        "  target = basketball_test[i]\r\n",
        "  if abs(target - prediction) < 0.5:\r\n",
        "    accuracy += 1\r\n",
        "accuracy *= 1 / len(height_test)\r\n",
        "print(\"Accuracy (height, weight, and gender): {}\".format(accuracy))"
      ],
      "execution_count": 87,
      "outputs": [
        {
          "output_type": "stream",
          "text": [
            "Average loss (height and weight): [0.51937899]\n",
            "Accuracy (height and weight): 0.7625000000000001\n"
          ],
          "name": "stdout"
        }
      ]
    },
    {
      "cell_type": "markdown",
      "metadata": {
        "id": "u9ud7IsLAQLJ"
      },
      "source": [
        "Weight helps slightly as a feature, about as much as gender does. However, the three-way combination of height, weight, and gender produces better results than just height and weight or height and gender."
      ]
    },
    {
      "cell_type": "markdown",
      "metadata": {
        "id": "3ZY1RoFWaqYi"
      },
      "source": [
        "---\n",
        "---\n",
        "\n",
        "**Submission:**\n",
        "\n",
        "All code must be written in Python. Submit all files needed for the TA to grade.  You can choose one of two methods:\n",
        "\n",
        "* iPython notebook: you can document your code and provide the written answers within the iPython notebook.  Please indicate your name at the top.  Also, if you are using Google Colab (or other online iPython notebook services), please download submit the ipynb file. (*Do not submit a link to the file.*)\n",
        "\n",
        "* Zip archive: make sure to include both your writeup and the code, as well as instructions on how to execute the code. (Ideally, we would prefer that you ensure your code can run on the CSE stdlinux.cse.ohio-state.edu system, and your instructions are tailored to getting it running on said system. In general please avoid using any packages other than those mentioned in the lab itself and try not to do anything too tricky or unusual with regards to running your code.)\n",
        "\n",
        "You may ask colleagues for general understanding assistance but do not share code.  You may start, however, from the hands-on code as a jumping off point.  Please do not copy code from the internet in developing your answer."
      ]
    }
  ]
}