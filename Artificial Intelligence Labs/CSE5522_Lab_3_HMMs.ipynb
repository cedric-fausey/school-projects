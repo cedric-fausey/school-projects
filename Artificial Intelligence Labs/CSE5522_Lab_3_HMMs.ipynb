{
  "nbformat": 4,
  "nbformat_minor": 0,
  "metadata": {
    "colab": {
      "name": "CSE5522 Lab #3: HMMs.ipynb",
      "provenance": [],
      "collapsed_sections": []
    },
    "kernelspec": {
      "name": "python3",
      "display_name": "Python 3"
    }
  },
  "cells": [
    {
      "cell_type": "markdown",
      "metadata": {
        "id": "lmJsvjudom7N"
      },
      "source": [
        "**Part 1: Viterbi Algorithm**"
      ]
    },
    {
      "cell_type": "code",
      "metadata": {
        "colab": {
          "base_uri": "https://localhost:8080/",
          "height": 143
        },
        "id": "NIVJPyKinKlo",
        "outputId": "6f6b1e1e-3557-47a0-9198-781adb004ce5"
      },
      "source": [
        "import matplotlib.pyplot as plt\n",
        "import pandas as pd\n",
        "import numpy as np\n",
        "from sklearn.model_selection import train_test_split\n",
        "\n",
        "obsProbsData = pd.read_csv(\"http://web.cse.ohio-state.edu/~barker.348/cse5522/lab3/observationProbs.csv\")\n",
        "transProbsData = pd.read_csv(\"http://web.cse.ohio-state.edu/~barker.348/cse5522/lab3/transitionProbs.csv\")\n",
        "testData = pd.read_csv(\"http://web.cse.ohio-state.edu/~barker.348/cse5522/lab3/testData.csv\")\n",
        "transProbsData"
      ],
      "execution_count": 75,
      "outputs": [
        {
          "output_type": "execute_result",
          "data": {
            "text/html": [
              "<div>\n",
              "<style scoped>\n",
              "    .dataframe tbody tr th:only-of-type {\n",
              "        vertical-align: middle;\n",
              "    }\n",
              "\n",
              "    .dataframe tbody tr th {\n",
              "        vertical-align: top;\n",
              "    }\n",
              "\n",
              "    .dataframe thead th {\n",
              "        text-align: right;\n",
              "    }\n",
              "</style>\n",
              "<table border=\"1\" class=\"dataframe\">\n",
              "  <thead>\n",
              "    <tr style=\"text-align: right;\">\n",
              "      <th></th>\n",
              "      <th>P(x|...)</th>\n",
              "      <th>C</th>\n",
              "      <th>H</th>\n",
              "      <th>START</th>\n",
              "    </tr>\n",
              "  </thead>\n",
              "  <tbody>\n",
              "    <tr>\n",
              "      <th>0</th>\n",
              "      <td>C</td>\n",
              "      <td>0.87</td>\n",
              "      <td>0.47</td>\n",
              "      <td>0.5</td>\n",
              "    </tr>\n",
              "    <tr>\n",
              "      <th>1</th>\n",
              "      <td>H</td>\n",
              "      <td>0.07</td>\n",
              "      <td>0.47</td>\n",
              "      <td>0.5</td>\n",
              "    </tr>\n",
              "    <tr>\n",
              "      <th>2</th>\n",
              "      <td>STOP</td>\n",
              "      <td>0.06</td>\n",
              "      <td>0.06</td>\n",
              "      <td>0.0</td>\n",
              "    </tr>\n",
              "  </tbody>\n",
              "</table>\n",
              "</div>"
            ],
            "text/plain": [
              "  P(x|...)     C     H  START\n",
              "0        C  0.87  0.47    0.5\n",
              "1        H  0.07  0.47    0.5\n",
              "2     STOP  0.06  0.06    0.0"
            ]
          },
          "metadata": {
            "tags": []
          },
          "execution_count": 75
        }
      ]
    },
    {
      "cell_type": "code",
      "metadata": {
        "colab": {
          "base_uri": "https://localhost:8080/"
        },
        "id": "RpJw-4tytJrj",
        "outputId": "95cfb5e5-30e1-41c5-cf4c-769189df57b3"
      },
      "source": [
        "obsProbs = np.array(obsProbsData.iloc[:])\n",
        "transProbs = np.array(transProbsData.iloc[:])\n",
        "obsProbs"
      ],
      "execution_count": 76,
      "outputs": [
        {
          "output_type": "execute_result",
          "data": {
            "text/plain": [
              "array([[1.000e+00, 6.407e-01, 2.000e-04],\n",
              "       [2.000e+00, 1.481e-01, 5.341e-01],\n",
              "       [3.000e+00, 2.122e-01, 4.657e-01]])"
            ]
          },
          "metadata": {
            "tags": []
          },
          "execution_count": 76
        }
      ]
    },
    {
      "cell_type": "code",
      "metadata": {
        "colab": {
          "base_uri": "https://localhost:8080/"
        },
        "id": "UB2vq6TdtMp3",
        "outputId": "3020aaf7-6445-4f1d-bbd0-59b1abfe95e5"
      },
      "source": [
        "def predictSeq(x):\n",
        "  rawSeq = np.array(testData.iloc[x])[1:]\n",
        "  # remove all the zeros\n",
        "  seq = rawSeq[rawSeq != 0]\n",
        "  # print(seq)\n",
        "  mValues = []\n",
        "  cValues = []\n",
        "  for i in range(len(seq)):\n",
        "    iceCream = seq[i]\n",
        "    # print(iceCream)\n",
        "    # mPair = [M_(i, COLD), M_(i, HOT)]\n",
        "    mPair = [0, 0]\n",
        "    # cPair = [most likely for day x given day x+1 is cold,\n",
        "    #          most likely for day x given day x+2 is hot]\n",
        "    #          0 = cold, 1 = hot\n",
        "    cPair = [0, 0]\n",
        "    # initialization step of Viterbi algorithm\n",
        "    if i == 0:\n",
        "      # transProbs[0][-1] = prior probability of cold\n",
        "      # transProbs[1][-1] = prior probability of hot\n",
        "      # obsProbs[x-1][1] = probability of x ice cream cones given cold\n",
        "      # obsProbs[x-1][2] = probability of x ice cream cones given hot\n",
        "      mPair[0] = transProbs[0][-1]*obsProbs[iceCream-1][1]\n",
        "      mPair[1] = transProbs[1][-1]*obsProbs[iceCream-1][2]\n",
        "    # recursive step\n",
        "    else:\n",
        "      # print(i)\n",
        "      # transProbs[0][1] = probability today is cold given yesterday was cold\n",
        "      # transProbs[1][1] = probability today is hot given yesterday was cold\n",
        "      # you probably get the idea\n",
        "      mPair[0] = obsProbs[iceCream-1][1] * max(transProbs[0][1]*mValues[i-1][0],\n",
        "          transProbs[0][2]*mValues[i-1][1])\n",
        "      mPair[1] = obsProbs[iceCream-1][2] * max(transProbs[1][1]*mValues[i-1][0],\n",
        "          transProbs[1][2]*mValues[i-1][1])\n",
        "      if transProbs[0][2]*mValues[i-1][1] > transProbs[0][1]*mValues[i-1][0]:\n",
        "        cPair[0] = 1\n",
        "      if transProbs[1][2]*mValues[i-1][1] > transProbs[1][1]*mValues[i-1][0]:\n",
        "        cPair[1] = 1\n",
        "      cValues.append(cPair)\n",
        "          \n",
        "    mValues.append(mPair)\n",
        "    # print(mPair)\n",
        "    # print(mValues)\n",
        "    # print(cValues)\n",
        "\n",
        "  # now for the predictions section\n",
        "  # first, predict the final day's weather using M values\n",
        "  predictions = []\n",
        "  if mValues[-1][1] > mValues[-1][0]:\n",
        "    predictions.append(1)\n",
        "  else:\n",
        "    predictions.append(0)\n",
        "  # then, predict all other days using C values\n",
        "  for i in reversed(range(len(cValues))):\n",
        "    predictions.insert(0, cValues[i][predictions[-1]])\n",
        "  return predictions\n",
        "  \n",
        "# printing results now\n",
        "def printPredictions(x):\n",
        "  print(\"Sequence #{}\".format(x))\n",
        "  rawSeq = np.array(testData.iloc[x])[1:]\n",
        "  seq = rawSeq[rawSeq != 0]\n",
        "  predictions = predictSeq(x)\n",
        "  temps = [\"cold\", \"hot\"]\n",
        "  for i in range(len(seq)):\n",
        "    print(\"Day {}, {} ice cream cones, predicted weather {}\".format(\n",
        "        i+1, seq[i], temps[predictions[i]]))\n",
        "  \n",
        "for i in range(len(testData)):\n",
        "  printPredictions(i)\n",
        "  print()"
      ],
      "execution_count": 77,
      "outputs": [
        {
          "output_type": "stream",
          "text": [
            "Sequence #0\n",
            "Day 1, 2 ice cream cones, predicted weather hot\n",
            "Day 2, 3 ice cream cones, predicted weather hot\n",
            "Day 3, 3 ice cream cones, predicted weather hot\n",
            "Day 4, 2 ice cream cones, predicted weather hot\n",
            "Day 5, 3 ice cream cones, predicted weather hot\n",
            "\n",
            "Sequence #1\n",
            "Day 1, 2 ice cream cones, predicted weather hot\n",
            "Day 2, 3 ice cream cones, predicted weather hot\n",
            "Day 3, 2 ice cream cones, predicted weather hot\n",
            "Day 4, 2 ice cream cones, predicted weather hot\n",
            "\n",
            "Sequence #2\n",
            "Day 1, 3 ice cream cones, predicted weather hot\n",
            "Day 2, 1 ice cream cones, predicted weather cold\n",
            "Day 3, 3 ice cream cones, predicted weather cold\n",
            "Day 4, 3 ice cream cones, predicted weather cold\n",
            "Day 5, 1 ice cream cones, predicted weather cold\n",
            "\n",
            "Sequence #3\n",
            "Day 1, 2 ice cream cones, predicted weather hot\n",
            "Day 2, 1 ice cream cones, predicted weather cold\n",
            "Day 3, 1 ice cream cones, predicted weather cold\n",
            "\n",
            "Sequence #4\n",
            "Day 1, 1 ice cream cones, predicted weather cold\n",
            "Day 2, 1 ice cream cones, predicted weather cold\n",
            "Day 3, 1 ice cream cones, predicted weather cold\n",
            "Day 4, 2 ice cream cones, predicted weather cold\n",
            "Day 5, 3 ice cream cones, predicted weather cold\n",
            "\n",
            "Sequence #5\n",
            "Day 1, 1 ice cream cones, predicted weather cold\n",
            "Day 2, 3 ice cream cones, predicted weather cold\n",
            "Day 3, 1 ice cream cones, predicted weather cold\n",
            "Day 4, 1 ice cream cones, predicted weather cold\n",
            "\n",
            "Sequence #6\n",
            "Day 1, 3 ice cream cones, predicted weather hot\n",
            "Day 2, 2 ice cream cones, predicted weather hot\n",
            "Day 3, 3 ice cream cones, predicted weather hot\n",
            "\n",
            "Sequence #7\n",
            "Day 1, 2 ice cream cones, predicted weather hot\n",
            "Day 2, 2 ice cream cones, predicted weather hot\n",
            "Day 3, 1 ice cream cones, predicted weather cold\n",
            "Day 4, 1 ice cream cones, predicted weather cold\n",
            "\n",
            "Sequence #8\n",
            "Day 1, 1 ice cream cones, predicted weather cold\n",
            "Day 2, 3 ice cream cones, predicted weather cold\n",
            "Day 3, 2 ice cream cones, predicted weather cold\n",
            "Day 4, 3 ice cream cones, predicted weather cold\n",
            "Day 5, 3 ice cream cones, predicted weather cold\n",
            "\n",
            "Sequence #9\n",
            "Day 1, 1 ice cream cones, predicted weather cold\n",
            "Day 2, 1 ice cream cones, predicted weather cold\n",
            "Day 3, 1 ice cream cones, predicted weather cold\n",
            "\n"
          ],
          "name": "stdout"
        }
      ]
    },
    {
      "cell_type": "markdown",
      "metadata": {
        "id": "IwzZU23Sskmx"
      },
      "source": [
        "As we can see here, if at least one day had only one ice cream cone, that day and every day after that will be predicted as cold. This is because on days with one ice cream cone, the probability of cold weather is overwhelmingly greater than the probability of hot weather. Aside from that, any sequence without days with only one ice cream cone is predicted entirely as hot."
      ]
    },
    {
      "cell_type": "markdown",
      "metadata": {
        "id": "2HvcPRaM2CWd"
      },
      "source": [
        "**Part 2: Approximate Inference**"
      ]
    },
    {
      "cell_type": "code",
      "metadata": {
        "colab": {
          "base_uri": "https://localhost:8080/"
        },
        "id": "mF1Pl29BC_zS",
        "outputId": "071c2b58-33eb-4d91-e706-b78f72f34178"
      },
      "source": [
        "# generates a sequence of days by weather based solely on prior/transition probabilities\n",
        "def generateWeatherSeq(length):\n",
        "  seq = []\n",
        "  for i in range(length):\n",
        "    weather = 0\n",
        "    if i == 0:\n",
        "      if np.random.random() > transProbs[0][-1]:\n",
        "        weather = 1\n",
        "    else:\n",
        "      if np.random.random() > transProbs[0][seq[-1]+1]:\n",
        "        weather = 1\n",
        "    seq.append(weather)\n",
        "  return seq\n",
        "\n",
        "for i in range(100):\n",
        "  print(generateWeatherSeq(5))"
      ],
      "execution_count": 78,
      "outputs": [
        {
          "output_type": "stream",
          "text": [
            "[0, 0, 1, 0, 0]\n",
            "[1, 0, 0, 0, 1]\n",
            "[0, 0, 0, 0, 0]\n",
            "[1, 0, 0, 0, 0]\n",
            "[0, 0, 0, 0, 0]\n",
            "[1, 1, 0, 0, 0]\n",
            "[1, 1, 1, 0, 1]\n",
            "[0, 0, 0, 0, 0]\n",
            "[0, 0, 0, 0, 0]\n",
            "[0, 0, 0, 0, 0]\n",
            "[1, 0, 0, 0, 0]\n",
            "[0, 0, 0, 0, 0]\n",
            "[0, 0, 0, 0, 0]\n",
            "[0, 0, 0, 1, 1]\n",
            "[0, 0, 0, 0, 0]\n",
            "[1, 0, 0, 1, 1]\n",
            "[0, 1, 1, 0, 0]\n",
            "[0, 0, 0, 0, 1]\n",
            "[1, 1, 0, 0, 0]\n",
            "[0, 0, 1, 1, 1]\n",
            "[0, 0, 0, 0, 0]\n",
            "[1, 1, 0, 0, 0]\n",
            "[0, 0, 0, 0, 0]\n",
            "[1, 0, 0, 1, 1]\n",
            "[0, 0, 0, 0, 0]\n",
            "[0, 0, 1, 1, 1]\n",
            "[0, 0, 0, 0, 1]\n",
            "[0, 0, 0, 0, 0]\n",
            "[0, 0, 0, 0, 0]\n",
            "[0, 0, 0, 0, 0]\n",
            "[0, 0, 0, 0, 0]\n",
            "[0, 0, 0, 0, 1]\n",
            "[1, 0, 0, 1, 1]\n",
            "[1, 0, 0, 0, 1]\n",
            "[0, 0, 1, 0, 0]\n",
            "[1, 0, 0, 0, 0]\n",
            "[1, 0, 0, 0, 0]\n",
            "[1, 0, 0, 0, 1]\n",
            "[0, 0, 0, 0, 0]\n",
            "[0, 0, 0, 1, 1]\n",
            "[0, 0, 1, 0, 0]\n",
            "[1, 0, 0, 0, 0]\n",
            "[1, 1, 0, 0, 0]\n",
            "[1, 0, 0, 0, 0]\n",
            "[1, 1, 0, 1, 1]\n",
            "[1, 1, 1, 0, 0]\n",
            "[1, 0, 0, 0, 0]\n",
            "[1, 0, 0, 0, 0]\n",
            "[1, 0, 0, 0, 0]\n",
            "[1, 1, 0, 0, 0]\n",
            "[0, 0, 0, 0, 0]\n",
            "[0, 0, 0, 0, 0]\n",
            "[1, 0, 0, 0, 1]\n",
            "[1, 1, 1, 1, 1]\n",
            "[1, 0, 0, 0, 0]\n",
            "[1, 1, 0, 0, 0]\n",
            "[0, 0, 0, 0, 1]\n",
            "[1, 1, 0, 0, 1]\n",
            "[0, 0, 0, 1, 0]\n",
            "[1, 1, 1, 1, 0]\n",
            "[1, 0, 0, 1, 0]\n",
            "[1, 1, 0, 0, 0]\n",
            "[0, 0, 0, 0, 0]\n",
            "[0, 0, 0, 0, 0]\n",
            "[1, 1, 1, 1, 1]\n",
            "[1, 1, 0, 0, 0]\n",
            "[0, 0, 0, 0, 0]\n",
            "[1, 1, 1, 1, 0]\n",
            "[1, 1, 1, 0, 0]\n",
            "[0, 0, 0, 0, 0]\n",
            "[0, 1, 1, 0, 0]\n",
            "[0, 0, 0, 0, 0]\n",
            "[1, 1, 0, 0, 0]\n",
            "[1, 0, 0, 0, 0]\n",
            "[1, 0, 0, 1, 0]\n",
            "[0, 1, 0, 0, 0]\n",
            "[0, 0, 0, 0, 1]\n",
            "[1, 0, 0, 0, 1]\n",
            "[1, 1, 1, 1, 0]\n",
            "[1, 1, 1, 1, 1]\n",
            "[1, 1, 1, 1, 0]\n",
            "[1, 0, 0, 0, 0]\n",
            "[1, 0, 0, 0, 1]\n",
            "[1, 0, 0, 1, 1]\n",
            "[0, 1, 0, 0, 0]\n",
            "[0, 1, 0, 0, 0]\n",
            "[0, 0, 0, 0, 0]\n",
            "[1, 1, 0, 0, 0]\n",
            "[0, 0, 1, 0, 0]\n",
            "[0, 0, 0, 0, 0]\n",
            "[0, 0, 1, 0, 0]\n",
            "[0, 0, 0, 0, 0]\n",
            "[0, 1, 0, 1, 1]\n",
            "[1, 1, 0, 1, 1]\n",
            "[0, 0, 1, 1, 0]\n",
            "[0, 1, 0, 1, 1]\n",
            "[0, 0, 0, 0, 0]\n",
            "[0, 0, 0, 0, 1]\n",
            "[0, 0, 0, 1, 1]\n",
            "[0, 0, 0, 0, 0]\n"
          ],
          "name": "stdout"
        }
      ]
    },
    {
      "cell_type": "code",
      "metadata": {
        "colab": {
          "base_uri": "https://localhost:8080/"
        },
        "id": "ImkP46bQEIQC",
        "outputId": "8d990682-3e86-43a6-b5bb-23bfc0d4a0fb"
      },
      "source": [
        "# gets the weight of a sequence of temperatures, based on a test sample\n",
        "def getWeight(seq, sample):\n",
        "  weight = 1.0\n",
        "  for i in range(len(seq)):\n",
        "    weather = seq[i]\n",
        "    iceCream = sample[i]\n",
        "    # for reference again:\n",
        "    # obsProbs[x-1][1] = probability of x ice cream cones given cold\n",
        "    # obsProbs[x-1][2] = probability of x ice cream cones given hot\n",
        "    weight *= obsProbs[iceCream-1][weather+1]\n",
        "    # print(\"weight: {}\".format(weight))\n",
        "  return weight\n",
        "\n",
        "rawSample = np.array(testData.iloc[1])[1:]\n",
        "sample = rawSample[rawSample != 0]\n",
        "seq = generateWeatherSeq(sample.size)\n",
        "print(seq)\n",
        "print(sample)\n",
        "print(getWeight(seq, sample))"
      ],
      "execution_count": 81,
      "outputs": [
        {
          "output_type": "stream",
          "text": [
            "[0, 0, 0, 0]\n",
            "[2 3 2 2]\n",
            "0.0006893036134202001\n"
          ],
          "name": "stdout"
        }
      ]
    },
    {
      "cell_type": "code",
      "metadata": {
        "colab": {
          "base_uri": "https://localhost:8080/"
        },
        "id": "2oIqT1y7Gz9A",
        "outputId": "31f068e7-574d-4632-97d7-43293f3a0f1c"
      },
      "source": [
        "import operator\n",
        "\n",
        "# makes a dictionary of sequence frequency counts multipled by weights\n",
        "# for easy probability calculation\n",
        "def seqFreqsAndWeights(sample, iters):\n",
        "  freqs = {}\n",
        "  for i in range(iters):\n",
        "    seq = generateWeatherSeq(sample.size)\n",
        "    strSeq = str(seq)\n",
        "    # print(strSeq)\n",
        "    if strSeq in freqs:\n",
        "      freqs[strSeq] += getWeight(seq, sample)\n",
        "    else:\n",
        "      freqs[strSeq] = getWeight(seq, sample)\n",
        "  return freqs\n",
        "\n",
        "# unused\n",
        "def seqProb(seq, dict):\n",
        "  return dict[seq]/sum(dict.values())\n",
        "\n",
        "# now to list the most likely predictions of each sample, with both algorithms\n",
        "for i in range(len(testData)):\n",
        "  rawSample = np.array(testData.iloc[i])[1:]\n",
        "  sample = rawSample[rawSample != 0]\n",
        "  freqs = seqFreqsAndWeights(sample, 10000)\n",
        "  temps = [\"C\", \"H\"]\n",
        "  print(\"Sample: {}\".format(sample))\n",
        "  pred_viterbi = predictSeq(i)\n",
        "  pred_approx = max(freqs, key = freqs.get)\n",
        "  print(\"Most likely sequence (Viterbi algorithm): {}\".format(pred_viterbi))\n",
        "  print(\"Most likely sequence (approximate inference): {}\".format(pred_approx))\n",
        "  print()"
      ],
      "execution_count": 82,
      "outputs": [
        {
          "output_type": "stream",
          "text": [
            "Sample: [2 3 3 2 3]\n",
            "Most likely sequence (Viterbi algorithm): [1, 1, 1, 1, 1]\n",
            "Most likely sequence (approximate inference): [1, 1, 1, 1, 1]\n",
            "\n",
            "Sample: [2 3 2 2]\n",
            "Most likely sequence (Viterbi algorithm): [1, 1, 1, 1]\n",
            "Most likely sequence (approximate inference): [1, 1, 1, 1]\n",
            "\n",
            "Sample: [3 1 3 3 1]\n",
            "Most likely sequence (Viterbi algorithm): [1, 0, 0, 0, 0]\n",
            "Most likely sequence (approximate inference): [1, 0, 0, 0, 0]\n",
            "\n",
            "Sample: [2 1 1]\n",
            "Most likely sequence (Viterbi algorithm): [1, 0, 0]\n",
            "Most likely sequence (approximate inference): [1, 0, 0]\n",
            "\n",
            "Sample: [1 1 1 2 3]\n",
            "Most likely sequence (Viterbi algorithm): [0, 0, 0, 0, 0]\n",
            "Most likely sequence (approximate inference): [0, 0, 0, 0, 0]\n",
            "\n",
            "Sample: [1 3 1 1]\n",
            "Most likely sequence (Viterbi algorithm): [0, 0, 0, 0]\n",
            "Most likely sequence (approximate inference): [0, 0, 0, 0]\n",
            "\n",
            "Sample: [3 2 3]\n",
            "Most likely sequence (Viterbi algorithm): [1, 1, 1]\n",
            "Most likely sequence (approximate inference): [1, 1, 1]\n",
            "\n",
            "Sample: [2 2 1 1]\n",
            "Most likely sequence (Viterbi algorithm): [1, 1, 0, 0]\n",
            "Most likely sequence (approximate inference): [1, 1, 0, 0]\n",
            "\n",
            "Sample: [1 3 2 3 3]\n",
            "Most likely sequence (Viterbi algorithm): [0, 0, 0, 0, 0]\n",
            "Most likely sequence (approximate inference): [0, 1, 1, 1, 1]\n",
            "\n",
            "Sample: [1 1 1]\n",
            "Most likely sequence (Viterbi algorithm): [0, 0, 0]\n",
            "Most likely sequence (approximate inference): [0, 0, 0]\n",
            "\n"
          ],
          "name": "stdout"
        }
      ]
    },
    {
      "cell_type": "markdown",
      "metadata": {
        "id": "panJP4PMDBiz"
      },
      "source": [
        "(Note that in the above results, 0 = cold, 1 = hot.)\n",
        "\n",
        "Most of the predicted weather sequences were the same between the Viterbi algorithm and approximate inference. The only sequence that wasn't the same was from the ice cream sample [1, 3, 2, 3, 3]. The Viterbi algorithm predicted [0, 0, 0, 0, 0] (all days cold), whereas approximate inference predicted [0, 1, 1, 1, 1] (day 1 cold, days 2-5 hot). This is probably because the cold to cold transition probability is very low, and thus samples with all days cold were infrequent enough that it made up for the extremely low weight of samples where at least one day was hot.\n",
        "\n",
        "Note that the above results were from testing with 10,000 iterations. With fewer iterations, there was somewhat more variance between the Vitberbi and approximate inference results."
      ]
    }
  ]
}
